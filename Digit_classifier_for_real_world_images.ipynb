{
  "nbformat": 4,
  "nbformat_minor": 0,
  "metadata": {
    "kernelspec": {
      "display_name": "feedforward",
      "language": "python",
      "name": "feedforward"
    },
    "language_info": {
      "codemirror_mode": {
        "name": "ipython",
        "version": 3
      },
      "file_extension": ".py",
      "mimetype": "text/x-python",
      "name": "python",
      "nbconvert_exporter": "python",
      "pygments_lexer": "ipython3",
      "version": "3.6.9"
    },
    "colab": {
      "name": "Digit classifier for real-world images.ipynb",
      "provenance": [],
      "collapsed_sections": [],
      "include_colab_link": true
    },
    "accelerator": "GPU"
  },
  "cells": [
    {
      "cell_type": "markdown",
      "metadata": {
        "id": "view-in-github",
        "colab_type": "text"
      },
      "source": [
        "<a href=\"https://colab.research.google.com/github/daniel920909/Digit-Classifier/blob/main/Digit_classifier_for_real_world_images.ipynb\" target=\"_parent\"><img src=\"https://colab.research.google.com/assets/colab-badge.svg\" alt=\"Open In Colab\"/></a>"
      ]
    },
    {
      "cell_type": "markdown",
      "metadata": {
        "id": "noJcUOJJ7PqM"
      },
      "source": [
        "# **DIGIT CLASSIFIER FOR REAL-WORLD IMAGES**"
      ]
    },
    {
      "cell_type": "markdown",
      "metadata": {
        "id": "BW0nyFnJ8zrg"
      },
      "source": [
        "In this project a Multilayer Perceptron neural network (MLP) and a Convolutional Neural Network (CNN) are built to classify digits from 0 to 9, from real-world images. For the project the SVHN dataset is used. This is an image dataset of over 600,000 digit images, obtained from house numbers in Google Street View images. \n",
        "\n",
        "Data augmentation is used in the CNN in order to increase the accuracy of the model, taking into account important aspects. For instance, some images might contain more than one digit, and the image augmentation could affect the algorithm if operations such as horizontal shifts result in the labeled digit not being centered in the image."
      ]
    },
    {
      "cell_type": "code",
      "metadata": {
        "id": "O3vI8jSIz_Fs"
      },
      "source": [
        "#Imports\n",
        "import tensorflow as tf\n",
        "from scipy.io import loadmat\n",
        "import matplotlib.pyplot as plt\n",
        "import numpy as np\n",
        "import json\n",
        "import pandas as pd\n",
        "\n",
        "from tensorflow import keras\n",
        "from tensorflow.keras.models import Sequential\n",
        "from tensorflow.keras.layers import Flatten, Dense, Conv2D, MaxPooling2D, BatchNormalization, Dropout\n",
        "\n",
        "from tensorflow.keras import regularizers\n",
        "from tensorflow.keras.callbacks import Callback,ModelCheckpoint, EarlyStopping\n",
        "from tensorflow.keras.preprocessing.image import ImageDataGenerator\n",
        "\n",
        "from collections import Counter"
      ],
      "execution_count": null,
      "outputs": []
    },
    {
      "cell_type": "code",
      "metadata": {
        "colab": {
          "base_uri": "https://localhost:8080/",
          "height": 36
        },
        "id": "DM-U_bmGmcLB",
        "outputId": "aa2573c6-ba0d-4951-9f74-50684a20b081"
      },
      "source": [
        "tf.__version__"
      ],
      "execution_count": null,
      "outputs": [
        {
          "output_type": "execute_result",
          "data": {
            "application/vnd.google.colaboratory.intrinsic+json": {
              "type": "string"
            },
            "text/plain": [
              "'2.4.1'"
            ]
          },
          "metadata": {
            "tags": []
          },
          "execution_count": 7
        }
      ]
    },
    {
      "cell_type": "code",
      "metadata": {
        "id": "r8BHW8P_2wxw",
        "colab": {
          "base_uri": "https://localhost:8080/"
        },
        "outputId": "bf2e2237-48d6-465b-b6ad-235b08f8fd77"
      },
      "source": [
        "# Run this cell to connect to Drive folder\n",
        "\n",
        "from google.colab import drive\n",
        "drive.mount('/content/gdrive')"
      ],
      "execution_count": 1,
      "outputs": [
        {
          "output_type": "stream",
          "text": [
            "Mounted at /content/gdrive\n"
          ],
          "name": "stdout"
        }
      ]
    },
    {
      "cell_type": "code",
      "metadata": {
        "id": "YWdiz3n_z_Fy"
      },
      "source": [
        "# Load the dataset from Drive folder\n",
        "\n",
        "train = loadmat('/content/gdrive/MyDrive/Colab_Notebooks/Capstone_Project/data/train_32x32.mat')\n",
        "test = loadmat('/content/gdrive/MyDrive/Colab_Notebooks/Capstone_Project/data/test_32x32.mat')"
      ],
      "execution_count": null,
      "outputs": []
    },
    {
      "cell_type": "markdown",
      "metadata": {
        "id": "Sot1IcuZz_F2"
      },
      "source": [
        "Both `train` and `test` are dictionaries with keys `X` and `y` for the input images and labels respectively."
      ]
    },
    {
      "cell_type": "markdown",
      "metadata": {
        "id": "rUtXxT598cLY"
      },
      "source": [
        "## 1. Inspect and preprocess the dataset"
      ]
    },
    {
      "cell_type": "code",
      "metadata": {
        "id": "-WIH5hyXz_F4"
      },
      "source": [
        "#Extraction of training and testing images, as well as labels\n",
        "x_train = train['X']\n",
        "y_train = train['y']\n",
        "x_test = test['X']\n",
        "y_test = test['y']\n",
        "\n",
        "x_train = np.moveaxis(x_train,-1,0)\n",
        "x_test = np.moveaxis(x_test,-1,0)"
      ],
      "execution_count": null,
      "outputs": []
    },
    {
      "cell_type": "code",
      "metadata": {
        "id": "zmGJK3xgz_F8",
        "colab": {
          "base_uri": "https://localhost:8080/"
        },
        "outputId": "e91e348b-b115-4336-e6d2-aa2697757185"
      },
      "source": [
        "x_train.shape"
      ],
      "execution_count": null,
      "outputs": [
        {
          "output_type": "execute_result",
          "data": {
            "text/plain": [
              "(73257, 32, 32, 3)"
            ]
          },
          "metadata": {
            "tags": []
          },
          "execution_count": 11
        }
      ]
    },
    {
      "cell_type": "code",
      "metadata": {
        "id": "6SR4gYffz_F_"
      },
      "source": [
        "#Replace labels of 10 with label 0\n",
        "\n",
        "y_train = np.where(y_train==10, 0, y_train)\n",
        "y_test = np.where(y_test==10, 0, y_test)"
      ],
      "execution_count": null,
      "outputs": []
    },
    {
      "cell_type": "code",
      "metadata": {
        "id": "UXYwWhHpz_GD",
        "colab": {
          "base_uri": "https://localhost:8080/",
          "height": 94
        },
        "outputId": "4f453144-a0c7-425c-96b0-6ce13805d0e3"
      },
      "source": [
        "#Train images examples\n",
        "fig, ax = plt.subplots(1, 10, figsize=(10, 1))\n",
        "\n",
        "index_array=np.arange(0,73257)\n",
        "\n",
        "r = np.random.choice(index_array, size=10, replace = False )\n",
        "\n",
        "\n",
        "for i in range(10):\n",
        "    img = x_train[r[i],:,:,:]\n",
        "    ax[i].set_axis_off()\n",
        "   \n",
        "    ax[i].imshow(img)\n",
        "    \n",
        "    ax[i].title.set_text(f\"label: {y_train[r[i]]}\")"
      ],
      "execution_count": null,
      "outputs": [
        {
          "output_type": "display_data",
          "data": {
            "image/png": "[encoded data removed]",
            "text/plain": [
              "<Figure size 720x72 with 10 Axes>"
            ]
          },
          "metadata": {
            "tags": [],
            "needs_background": "light"
          }
        }
      ]
    },
    {
      "cell_type": "code",
      "metadata": {
        "id": "auFZ63dtz_GH",
        "colab": {
          "base_uri": "https://localhost:8080/"
        },
        "outputId": "53a7c019-3f59-4175-e56a-dd8b24e060e4"
      },
      "source": [
        "x_train.shape"
      ],
      "execution_count": null,
      "outputs": [
        {
          "output_type": "execute_result",
          "data": {
            "text/plain": [
              "(73257, 32, 32, 3)"
            ]
          },
          "metadata": {
            "tags": []
          },
          "execution_count": 14
        }
      ]
    },
    {
      "cell_type": "code",
      "metadata": {
        "id": "5bVO_u6Xo3O5"
      },
      "source": [
        "#Conversion to greyscale \n",
        "x_train_gs = np.mean(x_train,axis = -1, keepdims = True)\n",
        "x_test_gs  = np.mean(x_test,axis = -1, keepdims = True)\n"
      ],
      "execution_count": null,
      "outputs": []
    },
    {
      "cell_type": "code",
      "metadata": {
        "colab": {
          "base_uri": "https://localhost:8080/",
          "height": 94
        },
        "id": "iHSF1nFEo3Yf",
        "outputId": "8304834f-455e-4ba7-a693-c83ba83e75f5"
      },
      "source": [
        "#Train images examples in greyscale\n",
        "fig, ax = plt.subplots(1, 10, figsize=(10, 1))\n",
        "\n",
        "index_array=np.arange(0,73257)\n",
        "\n",
        "r = np.random.choice(index_array, size=10, replace = False )\n",
        "\n",
        "\n",
        "for i in range(10):\n",
        "    img = x_train_gs[r[i],:,:,0]\n",
        "    ax[i].set_axis_off()\n",
        "   \n",
        "    ax[i].imshow(img, cmap = 'gray')\n",
        "    \n",
        "    ax[i].title.set_text(f\"label: {y_train[r[i]]}\")"
      ],
      "execution_count": null,
      "outputs": [
        {
          "output_type": "display_data",
          "data": {
            "image/png": "[encoded data removed]",
            "text/plain": [
              "<Figure size 720x72 with 10 Axes>"
            ]
          },
          "metadata": {
            "tags": [],
            "needs_background": "light"
          }
        }
      ]
    },
    {
      "cell_type": "code",
      "metadata": {
        "id": "LYM1jtQwo3cz"
      },
      "source": [
        "#Normalization\n",
        "x_train_gs = x_train_gs/255.\n",
        "x_test_gs  = x_test_gs/255.\n"
      ],
      "execution_count": null,
      "outputs": []
    },
    {
      "cell_type": "code",
      "metadata": {
        "colab": {
          "base_uri": "https://localhost:8080/"
        },
        "id": "u8qM2_uWo3f8",
        "outputId": "2333c064-8fea-45fa-c35e-f880daf46b58"
      },
      "source": [
        "y_train.shape[0]"
      ],
      "execution_count": null,
      "outputs": [
        {
          "output_type": "execute_result",
          "data": {
            "text/plain": [
              "73257"
            ]
          },
          "metadata": {
            "tags": []
          },
          "execution_count": 18
        }
      ]
    },
    {
      "cell_type": "code",
      "metadata": {
        "id": "CGHZvq4zz_GK",
        "colab": {
          "base_uri": "https://localhost:8080/",
          "height": 313
        },
        "outputId": "6a6ad58e-7528-4a55-a98b-8371222c656a"
      },
      "source": [
        "#Here we check the train labels distribution  \n",
        "to_count = y_train.reshape((y_train.shape[0]))\n",
        "cont = Counter(list(to_count))\n",
        "plt.bar(cont.keys(),cont.values())\n",
        "plt.title('TRAINING DATA LABEL DISTRIBUTION')\n",
        "plt.ylabel('Number of entries')\n",
        "plt.xlabel('Label')\n",
        "mean =  np.mean(list(cont.values()))\n",
        "plt.axhline(y= mean,color='red')\n",
        "plt.annotate(mean, (5,mean+200))\n",
        "print(cont)"
      ],
      "execution_count": null,
      "outputs": [
        {
          "output_type": "stream",
          "text": [
            "Counter({1: 13861, 2: 10585, 3: 8497, 4: 7458, 5: 6882, 6: 5727, 7: 5595, 8: 5045, 0: 4948, 9: 4659})\n"
          ],
          "name": "stdout"
        },
        {
          "output_type": "display_data",
          "data": {
            "image/png": "[encoded data removed]",
            "text/plain": [
              "<Figure size 432x288 with 1 Axes>"
            ]
          },
          "metadata": {
            "tags": [],
            "needs_background": "light"
          }
        }
      ]
    },
    {
      "cell_type": "code",
      "metadata": {
        "colab": {
          "base_uri": "https://localhost:8080/",
          "height": 313
        },
        "id": "ewcy_hERpCiy",
        "outputId": "a6149007-7759-4c10-e95c-458990b820cc"
      },
      "source": [
        "#Here we check the test labels distribution  \n",
        "to_count2 = y_test.reshape((y_test.shape[0]))\n",
        "cont2 = Counter(list(to_count2))\n",
        "plt.bar(cont2.keys(),cont2.values())\n",
        "\n",
        "plt.title('TEST DATA LABEL DISTRIBUTION')\n",
        "plt.ylabel('Number of entries')\n",
        "plt.xlabel('Label')\n",
        "mean2 =  np.mean(list(cont2.values()))\n",
        "plt.axhline(y= mean2,color='red')\n",
        "plt.annotate(mean2, (5,mean2+100))\n",
        "print(cont2)"
      ],
      "execution_count": null,
      "outputs": [
        {
          "output_type": "stream",
          "text": [
            "Counter({1: 5099, 2: 4149, 3: 2882, 4: 2523, 5: 2384, 7: 2019, 6: 1977, 0: 1744, 8: 1660, 9: 1595})\n"
          ],
          "name": "stdout"
        },
        {
          "output_type": "display_data",
          "data": {
            "image/png": "[encoded data removed]",
            "text/plain": [
              "<Figure size 432x288 with 1 Axes>"
            ]
          },
          "metadata": {
            "tags": [],
            "needs_background": "light"
          }
        }
      ]
    },
    {
      "cell_type": "code",
      "metadata": {
        "id": "wpgkpf4HpCr4"
      },
      "source": [
        "#One-hot encode\n",
        "y_train =  tf.keras.utils.to_categorical(np.array(y_train))\n",
        "y_test = tf.keras.utils.to_categorical(np.array(y_test))"
      ],
      "execution_count": null,
      "outputs": []
    },
    {
      "cell_type": "code",
      "metadata": {
        "colab": {
          "base_uri": "https://localhost:8080/"
        },
        "id": "7B3zbwKQpCxx",
        "outputId": "713d801d-a47a-4692-c34b-a944c3169ce2"
      },
      "source": [
        "y_test[21].shape"
      ],
      "execution_count": null,
      "outputs": [
        {
          "output_type": "execute_result",
          "data": {
            "text/plain": [
              "(10,)"
            ]
          },
          "metadata": {
            "tags": []
          },
          "execution_count": 22
        }
      ]
    },
    {
      "cell_type": "code",
      "metadata": {
        "colab": {
          "base_uri": "https://localhost:8080/"
        },
        "id": "hF_NIQvhpJL6",
        "outputId": "6c2704f0-e9a3-4302-f77b-7ea98938dcdb"
      },
      "source": [
        "#Separate the training data\n",
        "x_trainv = x_train_gs[:62268]\n",
        "y_trainv = y_train[:62268]\n",
        "x_trainv.shape\n"
      ],
      "execution_count": null,
      "outputs": [
        {
          "output_type": "execute_result",
          "data": {
            "text/plain": [
              "(62268, 32, 32, 1)"
            ]
          },
          "metadata": {
            "tags": []
          },
          "execution_count": 23
        }
      ]
    },
    {
      "cell_type": "code",
      "metadata": {
        "colab": {
          "base_uri": "https://localhost:8080/"
        },
        "id": "UViyvjsvpJeS",
        "outputId": "b55fa1be-9f59-4c7d-dc67-f7390d72b6a6"
      },
      "source": [
        "#Separate the validation data\n",
        "x_validation = x_train_gs[62268:73257]\n",
        "y_validation = y_train[62268:73257]\n",
        "x_validation.shape\n"
      ],
      "execution_count": null,
      "outputs": [
        {
          "output_type": "execute_result",
          "data": {
            "text/plain": [
              "(10989, 32, 32, 1)"
            ]
          },
          "metadata": {
            "tags": []
          },
          "execution_count": 24
        }
      ]
    },
    {
      "cell_type": "markdown",
      "metadata": {
        "id": "eSWTQwlR8qt2"
      },
      "source": [
        "## 2. MLP neural network classifier"
      ]
    },
    {
      "cell_type": "code",
      "metadata": {
        "id": "l14VCBFVz_GO"
      },
      "source": [
        "def get_new_MLP_model(input_shape):\n",
        "            \n",
        "    model = Sequential([\n",
        "        Flatten(input_shape=input_shape,name='Flatten'),\n",
        "        Dense(256,activation = 'relu', name='Dense_1'),\n",
        "        Dense(256,activation = 'relu', name='Dense_2'),\n",
        "        Dense(128,activation = 'relu', name='Dense_3'),\n",
        "        Dense(10,activation = 'softmax', name= 'Dense_Final')\n",
        "        \n",
        "    ])\n",
        "    \n",
        "    model.compile(optimizer = 'adam', loss= 'categorical_crossentropy', metrics=['acc', keras.metrics.Precision(name='precision'),\n",
        "                                                                                        keras.metrics.Recall(name='recall'),\n",
        "                                                                                        keras.metrics.AUC(name='auc')])\n",
        "    \n",
        "    return model "
      ],
      "execution_count": null,
      "outputs": []
    },
    {
      "cell_type": "code",
      "metadata": {
        "id": "beEZO1kvz_GR"
      },
      "source": [
        "mlp_model = get_new_MLP_model(x_trainv[0].shape)"
      ],
      "execution_count": null,
      "outputs": []
    },
    {
      "cell_type": "code",
      "metadata": {
        "id": "YxJXq3xYz_GU",
        "colab": {
          "base_uri": "https://localhost:8080/"
        },
        "outputId": "320f5831-610d-4044-988a-7bd54331aaf5"
      },
      "source": [
        "mlp_model.summary()"
      ],
      "execution_count": null,
      "outputs": [
        {
          "output_type": "stream",
          "text": [
            "Model: \"sequential_3\"\n",
            "_________________________________________________________________\n",
            "Layer (type)                 Output Shape              Param #   \n",
            "=================================================================\n",
            "Flatten (Flatten)            (None, 1024)              0         \n",
            "_________________________________________________________________\n",
            "Dense_1 (Dense)              (None, 256)               262400    \n",
            "_________________________________________________________________\n",
            "Dense_2 (Dense)              (None, 256)               65792     \n",
            "_________________________________________________________________\n",
            "Dense_3 (Dense)              (None, 128)               32896     \n",
            "_________________________________________________________________\n",
            "Dense_Final (Dense)          (None, 10)                1290      \n",
            "=================================================================\n",
            "Total params: 362,378\n",
            "Trainable params: 362,378\n",
            "Non-trainable params: 0\n",
            "_________________________________________________________________\n"
          ],
          "name": "stdout"
        }
      ]
    },
    {
      "cell_type": "code",
      "metadata": {
        "id": "pPPbzGhVz_GW"
      },
      "source": [
        "def get_checkpoint_mlp_every_epoch():\n",
        "       \n",
        "    checkpoint_path = '/content/gdrive/MyDrive/Colab_Notebooks/Capstone_Project/checkpoints_mlp_every_epoch/checkpoint_{epoch:02d}'\n",
        "    checkpoint = ModelCheckpoint(filepath = checkpoint_path,\n",
        "                             frequency = 'epoch',\n",
        "                            save_weights_only = True,\n",
        "                            verbose = 1)\n",
        "\n",
        "    return checkpoint"
      ],
      "execution_count": null,
      "outputs": []
    },
    {
      "cell_type": "code",
      "metadata": {
        "id": "7b5_8VsCz_GZ"
      },
      "source": [
        "def get_checkpoint_mlp_best_only():\n",
        "    \n",
        "    checkpoint_path = '/content/gdrive/MyDrive/Colab_Notebooks/Capstone_Project/checkpoints_mlp_best_only/checkpoint'\n",
        "    checkpoint = ModelCheckpoint(filepath = checkpoint_path,\n",
        "                                frequency = 'epoch',\n",
        "                                 monitor = 'val_acc',\n",
        "                                 save_best_only = True,\n",
        "                                 save_weights_only = True,\n",
        "                                verbose = 1)\n",
        "    return checkpoint"
      ],
      "execution_count": null,
      "outputs": []
    },
    {
      "cell_type": "code",
      "metadata": {
        "id": "b0kH6VYqz_Gc"
      },
      "source": [
        "def get_early_stopping():\n",
        "    \n",
        "    early  = tf.keras.callbacks.EarlyStopping(patience=10, monitor = 'val_acc')\n",
        "    \n",
        "    return early "
      ],
      "execution_count": null,
      "outputs": []
    },
    {
      "cell_type": "code",
      "metadata": {
        "id": "bVxR4C4GpjKw"
      },
      "source": [
        "#Create checkpoints\n",
        "checkpoint_every_epoch = get_checkpoint_mlp_every_epoch()\n",
        "checkpoint_best_only = get_checkpoint_mlp_best_only()\n",
        "early_stopping = get_early_stopping()\n",
        "callbacks = [checkpoint_every_epoch, checkpoint_best_only, early_stopping]"
      ],
      "execution_count": null,
      "outputs": []
    },
    {
      "cell_type": "code",
      "metadata": {
        "colab": {
          "base_uri": "https://localhost:8080/"
        },
        "id": "H45Y7pWqpjTI",
        "outputId": "dac6893a-f9a5-471f-9d5c-96a73064cca9"
      },
      "source": [
        "# Train the network\n",
        "history = mlp_model.fit(x_trainv,y_trainv,epochs =100, batch_size = 10000,validation_data=(x_validation, y_validation),verbose=1\n",
        "                        , callbacks = callbacks)"
      ],
      "execution_count": null,
      "outputs": [
        {
          "output_type": "stream",
          "text": [
            "Epoch 1/100\n",
            "7/7 [==============================] - 2s 111ms/step - loss: 2.3049 - acc: 0.1342 - precision: 0.1885 - recall: 0.0025 - auc: 0.5577 - val_loss: 2.2525 - val_acc: 0.1885 - val_precision: 0.0000e+00 - val_recall: 0.0000e+00 - val_auc: 0.6026\n",
            "\n",
            "Epoch 00001: saving model to /content/gdrive/MyDrive/Colab_Notebooks/Capstone_Project/checkpoints_mlp_every_epoch/checkpoint_01\n",
            "\n",
            "Epoch 00001: val_acc improved from -inf to 0.18846, saving model to /content/gdrive/MyDrive/Colab_Notebooks/Capstone_Project/checkpoints_mlp_best_only/checkpoint\n",
            "Epoch 2/100\n",
            "7/7 [==============================] - 0s 42ms/step - loss: 2.2474 - acc: 0.1902 - precision: 0.0000e+00 - recall: 0.0000e+00 - auc: 0.6046 - val_loss: 2.2417 - val_acc: 0.1881 - val_precision: 0.0000e+00 - val_recall: 0.0000e+00 - val_auc: 0.6095\n",
            "\n",
            "Epoch 00002: saving model to /content/gdrive/MyDrive/Colab_Notebooks/Capstone_Project/checkpoints_mlp_every_epoch/checkpoint_02\n",
            "\n",
            "Epoch 00002: val_acc did not improve from 0.18846\n",
            "Epoch 3/100\n",
            "7/7 [==============================] - 0s 43ms/step - loss: 2.2410 - acc: 0.1892 - precision: 0.0000e+00 - recall: 0.0000e+00 - auc: 0.6105 - val_loss: 2.2355 - val_acc: 0.1881 - val_precision: 0.0000e+00 - val_recall: 0.0000e+00 - val_auc: 0.6138\n",
            "\n",
            "Epoch 00003: saving model to /content/gdrive/MyDrive/Colab_Notebooks/Capstone_Project/checkpoints_mlp_every_epoch/checkpoint_03\n",
            "\n",
            "Epoch 00003: val_acc did not improve from 0.18846\n",
            "Epoch 4/100\n",
            "7/7 [==============================] - 0s 42ms/step - loss: 2.2324 - acc: 0.1929 - precision: 0.0000e+00 - recall: 0.0000e+00 - auc: 0.6169 - val_loss: 2.2256 - val_acc: 0.1901 - val_precision: 0.0000e+00 - val_recall: 0.0000e+00 - val_auc: 0.6190\n",
            "\n",
            "Epoch 00004: saving model to /content/gdrive/MyDrive/Colab_Notebooks/Capstone_Project/checkpoints_mlp_every_epoch/checkpoint_04\n",
            "\n",
            "Epoch 00004: val_acc improved from 0.18846 to 0.19010, saving model to /content/gdrive/MyDrive/Colab_Notebooks/Capstone_Project/checkpoints_mlp_best_only/checkpoint\n",
            "Epoch 5/100\n",
            "7/7 [==============================] - 0s 38ms/step - loss: 2.2199 - acc: 0.2004 - precision: 0.0000e+00 - recall: 0.0000e+00 - auc: 0.6232 - val_loss: 2.2107 - val_acc: 0.1948 - val_precision: 0.8333 - val_recall: 4.5500e-04 - val_auc: 0.6296\n",
            "\n",
            "Epoch 00005: saving model to /content/gdrive/MyDrive/Colab_Notebooks/Capstone_Project/checkpoints_mlp_every_epoch/checkpoint_05\n",
            "\n",
            "Epoch 00005: val_acc improved from 0.19010 to 0.19483, saving model to /content/gdrive/MyDrive/Colab_Notebooks/Capstone_Project/checkpoints_mlp_best_only/checkpoint\n",
            "Epoch 6/100\n",
            "7/7 [==============================] - 0s 40ms/step - loss: 2.2031 - acc: 0.2048 - precision: 0.8382 - recall: 5.0927e-04 - auc: 0.6339 - val_loss: 2.1876 - val_acc: 0.2031 - val_precision: 0.9167 - val_recall: 0.0020 - val_auc: 0.6439\n",
            "\n",
            "Epoch 00006: saving model to /content/gdrive/MyDrive/Colab_Notebooks/Capstone_Project/checkpoints_mlp_every_epoch/checkpoint_06\n",
            "\n",
            "Epoch 00006: val_acc improved from 0.19483 to 0.20311, saving model to /content/gdrive/MyDrive/Colab_Notebooks/Capstone_Project/checkpoints_mlp_best_only/checkpoint\n",
            "Epoch 7/100\n",
            "7/7 [==============================] - 0s 40ms/step - loss: 2.1768 - acc: 0.2182 - precision: 0.8548 - recall: 0.0037 - auc: 0.6488 - val_loss: 2.1471 - val_acc: 0.2311 - val_precision: 0.8416 - val_recall: 0.0077 - val_auc: 0.6639\n",
            "\n",
            "Epoch 00007: saving model to /content/gdrive/MyDrive/Colab_Notebooks/Capstone_Project/checkpoints_mlp_every_epoch/checkpoint_07\n",
            "\n",
            "Epoch 00007: val_acc improved from 0.20311 to 0.23114, saving model to /content/gdrive/MyDrive/Colab_Notebooks/Capstone_Project/checkpoints_mlp_best_only/checkpoint\n",
            "Epoch 8/100\n",
            "7/7 [==============================] - 0s 40ms/step - loss: 2.1324 - acc: 0.2385 - precision: 0.8199 - recall: 0.0108 - auc: 0.6729 - val_loss: 2.0955 - val_acc: 0.2634 - val_precision: 0.8390 - val_recall: 0.0157 - val_auc: 0.6914\n",
            "\n",
            "Epoch 00008: saving model to /content/gdrive/MyDrive/Colab_Notebooks/Capstone_Project/checkpoints_mlp_every_epoch/checkpoint_08\n",
            "\n",
            "Epoch 00008: val_acc improved from 0.23114 to 0.26335, saving model to /content/gdrive/MyDrive/Colab_Notebooks/Capstone_Project/checkpoints_mlp_best_only/checkpoint\n",
            "Epoch 9/100\n",
            "7/7 [==============================] - 0s 40ms/step - loss: 2.0762 - acc: 0.2639 - precision: 0.7980 - recall: 0.0243 - auc: 0.7006 - val_loss: 2.0387 - val_acc: 0.2832 - val_precision: 0.7650 - val_recall: 0.0406 - val_auc: 0.7175\n",
            "\n",
            "Epoch 00009: saving model to /content/gdrive/MyDrive/Colab_Notebooks/Capstone_Project/checkpoints_mlp_every_epoch/checkpoint_09\n",
            "\n",
            "Epoch 00009: val_acc improved from 0.26335 to 0.28319, saving model to /content/gdrive/MyDrive/Colab_Notebooks/Capstone_Project/checkpoints_mlp_best_only/checkpoint\n",
            "Epoch 10/100\n",
            "7/7 [==============================] - 0s 37ms/step - loss: 2.0264 - acc: 0.2865 - precision: 0.7484 - recall: 0.0458 - auc: 0.7198 - val_loss: 2.0342 - val_acc: 0.2582 - val_precision: 0.6349 - val_recall: 0.0752 - val_auc: 0.7108\n",
            "\n",
            "Epoch 00010: saving model to /content/gdrive/MyDrive/Colab_Notebooks/Capstone_Project/checkpoints_mlp_every_epoch/checkpoint_10\n",
            "\n",
            "Epoch 00010: val_acc did not improve from 0.28319\n",
            "Epoch 11/100\n",
            "7/7 [==============================] - 0s 40ms/step - loss: 1.9988 - acc: 0.2922 - precision: 0.7274 - recall: 0.0668 - auc: 0.7255 - val_loss: 1.9612 - val_acc: 0.3115 - val_precision: 0.8245 - val_recall: 0.0637 - val_auc: 0.7416\n",
            "\n",
            "Epoch 00011: saving model to /content/gdrive/MyDrive/Colab_Notebooks/Capstone_Project/checkpoints_mlp_every_epoch/checkpoint_11\n",
            "\n",
            "Epoch 00011: val_acc improved from 0.28319 to 0.31149, saving model to /content/gdrive/MyDrive/Colab_Notebooks/Capstone_Project/checkpoints_mlp_best_only/checkpoint\n",
            "Epoch 12/100\n",
            "7/7 [==============================] - 0s 39ms/step - loss: 1.9344 - acc: 0.3317 - precision: 0.8083 - recall: 0.0729 - auc: 0.7500 - val_loss: 1.9012 - val_acc: 0.3471 - val_precision: 0.8663 - val_recall: 0.0808 - val_auc: 0.7647\n",
            "\n",
            "Epoch 00012: saving model to /content/gdrive/MyDrive/Colab_Notebooks/Capstone_Project/checkpoints_mlp_every_epoch/checkpoint_12\n",
            "\n",
            "Epoch 00012: val_acc improved from 0.31149 to 0.34707, saving model to /content/gdrive/MyDrive/Colab_Notebooks/Capstone_Project/checkpoints_mlp_best_only/checkpoint\n",
            "Epoch 13/100\n",
            "7/7 [==============================] - 0s 38ms/step - loss: 1.8741 - acc: 0.3541 - precision: 0.8329 - recall: 0.0937 - auc: 0.7722 - val_loss: 1.8439 - val_acc: 0.3703 - val_precision: 0.8097 - val_recall: 0.1200 - val_auc: 0.7809\n",
            "\n",
            "Epoch 00013: saving model to /content/gdrive/MyDrive/Colab_Notebooks/Capstone_Project/checkpoints_mlp_every_epoch/checkpoint_13\n",
            "\n",
            "Epoch 00013: val_acc improved from 0.34707 to 0.37028, saving model to /content/gdrive/MyDrive/Colab_Notebooks/Capstone_Project/checkpoints_mlp_best_only/checkpoint\n",
            "Epoch 14/100\n",
            "7/7 [==============================] - 0s 38ms/step - loss: 1.8165 - acc: 0.3782 - precision: 0.8329 - recall: 0.1254 - auc: 0.7908 - val_loss: 1.7801 - val_acc: 0.3831 - val_precision: 0.8447 - val_recall: 0.1351 - val_auc: 0.8029\n",
            "\n",
            "Epoch 00014: saving model to /content/gdrive/MyDrive/Colab_Notebooks/Capstone_Project/checkpoints_mlp_every_epoch/checkpoint_14\n",
            "\n",
            "Epoch 00014: val_acc improved from 0.37028 to 0.38311, saving model to /content/gdrive/MyDrive/Colab_Notebooks/Capstone_Project/checkpoints_mlp_best_only/checkpoint\n",
            "Epoch 15/100\n",
            "7/7 [==============================] - 0s 41ms/step - loss: 1.7540 - acc: 0.3990 - precision: 0.8345 - recall: 0.1523 - auc: 0.8093 - val_loss: 1.7372 - val_acc: 0.4232 - val_precision: 0.8555 - val_recall: 0.1465 - val_auc: 0.8163\n",
            "\n",
            "Epoch 00015: saving model to /content/gdrive/MyDrive/Colab_Notebooks/Capstone_Project/checkpoints_mlp_every_epoch/checkpoint_15\n",
            "\n",
            "Epoch 00015: val_acc improved from 0.38311 to 0.42324, saving model to /content/gdrive/MyDrive/Colab_Notebooks/Capstone_Project/checkpoints_mlp_best_only/checkpoint\n",
            "Epoch 16/100\n",
            "7/7 [==============================] - 0s 39ms/step - loss: 1.7064 - acc: 0.4269 - precision: 0.8292 - recall: 0.1679 - auc: 0.8233 - val_loss: 1.7029 - val_acc: 0.4297 - val_precision: 0.7770 - val_recall: 0.1976 - val_auc: 0.8205\n",
            "\n",
            "Epoch 00016: saving model to /content/gdrive/MyDrive/Colab_Notebooks/Capstone_Project/checkpoints_mlp_every_epoch/checkpoint_16\n",
            "\n",
            "Epoch 00016: val_acc improved from 0.42324 to 0.42970, saving model to /content/gdrive/MyDrive/Colab_Notebooks/Capstone_Project/checkpoints_mlp_best_only/checkpoint\n",
            "Epoch 17/100\n",
            "7/7 [==============================] - 0s 38ms/step - loss: 1.6721 - acc: 0.4460 - precision: 0.8013 - recall: 0.1940 - auc: 0.8289 - val_loss: 1.6283 - val_acc: 0.4601 - val_precision: 0.7998 - val_recall: 0.2098 - val_auc: 0.8414\n",
            "\n",
            "Epoch 00017: saving model to /content/gdrive/MyDrive/Colab_Notebooks/Capstone_Project/checkpoints_mlp_every_epoch/checkpoint_17\n",
            "\n",
            "Epoch 00017: val_acc improved from 0.42970 to 0.46010, saving model to /content/gdrive/MyDrive/Colab_Notebooks/Capstone_Project/checkpoints_mlp_best_only/checkpoint\n",
            "Epoch 18/100\n",
            "7/7 [==============================] - 0s 40ms/step - loss: 1.6065 - acc: 0.4666 - precision: 0.8152 - recall: 0.2131 - auc: 0.8459 - val_loss: 1.5739 - val_acc: 0.4810 - val_precision: 0.8232 - val_recall: 0.2123 - val_auc: 0.8550\n",
            "\n",
            "Epoch 00018: saving model to /content/gdrive/MyDrive/Colab_Notebooks/Capstone_Project/checkpoints_mlp_every_epoch/checkpoint_18\n",
            "\n",
            "Epoch 00018: val_acc improved from 0.46010 to 0.48103, saving model to /content/gdrive/MyDrive/Colab_Notebooks/Capstone_Project/checkpoints_mlp_best_only/checkpoint\n",
            "Epoch 19/100\n",
            "7/7 [==============================] - 0s 40ms/step - loss: 1.5467 - acc: 0.4940 - precision: 0.8393 - recall: 0.2226 - auc: 0.8605 - val_loss: 1.5318 - val_acc: 0.4968 - val_precision: 0.8144 - val_recall: 0.2332 - val_auc: 0.8618\n",
            "\n",
            "Epoch 00019: saving model to /content/gdrive/MyDrive/Colab_Notebooks/Capstone_Project/checkpoints_mlp_every_epoch/checkpoint_19\n",
            "\n",
            "Epoch 00019: val_acc improved from 0.48103 to 0.49677, saving model to /content/gdrive/MyDrive/Colab_Notebooks/Capstone_Project/checkpoints_mlp_best_only/checkpoint\n",
            "Epoch 20/100\n",
            "7/7 [==============================] - 0s 39ms/step - loss: 1.5186 - acc: 0.5021 - precision: 0.8255 - recall: 0.2434 - auc: 0.8634 - val_loss: 1.5139 - val_acc: 0.5029 - val_precision: 0.7953 - val_recall: 0.2610 - val_auc: 0.8637\n",
            "\n",
            "Epoch 00020: saving model to /content/gdrive/MyDrive/Colab_Notebooks/Capstone_Project/checkpoints_mlp_every_epoch/checkpoint_20\n",
            "\n",
            "Epoch 00020: val_acc improved from 0.49677 to 0.50287, saving model to /content/gdrive/MyDrive/Colab_Notebooks/Capstone_Project/checkpoints_mlp_best_only/checkpoint\n",
            "Epoch 21/100\n",
            "7/7 [==============================] - 0s 41ms/step - loss: 1.4755 - acc: 0.5193 - precision: 0.8239 - recall: 0.2643 - auc: 0.8722 - val_loss: 1.4539 - val_acc: 0.5300 - val_precision: 0.8213 - val_recall: 0.2655 - val_auc: 0.8767\n",
            "\n",
            "Epoch 00021: saving model to /content/gdrive/MyDrive/Colab_Notebooks/Capstone_Project/checkpoints_mlp_every_epoch/checkpoint_21\n",
            "\n",
            "Epoch 00021: val_acc improved from 0.50287 to 0.52998, saving model to /content/gdrive/MyDrive/Colab_Notebooks/Capstone_Project/checkpoints_mlp_best_only/checkpoint\n",
            "Epoch 22/100\n",
            "7/7 [==============================] - 0s 40ms/step - loss: 1.4289 - acc: 0.5395 - precision: 0.8368 - recall: 0.2775 - auc: 0.8814 - val_loss: 1.4671 - val_acc: 0.5242 - val_precision: 0.7800 - val_recall: 0.3008 - val_auc: 0.8702\n",
            "\n",
            "Epoch 00022: saving model to /content/gdrive/MyDrive/Colab_Notebooks/Capstone_Project/checkpoints_mlp_every_epoch/checkpoint_22\n",
            "\n",
            "Epoch 00022: val_acc did not improve from 0.52998\n",
            "Epoch 23/100\n",
            "7/7 [==============================] - 0s 43ms/step - loss: 1.4515 - acc: 0.5311 - precision: 0.8141 - recall: 0.2940 - auc: 0.8732 - val_loss: 1.4361 - val_acc: 0.5370 - val_precision: 0.8395 - val_recall: 0.2760 - val_auc: 0.8779\n",
            "\n",
            "Epoch 00023: saving model to /content/gdrive/MyDrive/Colab_Notebooks/Capstone_Project/checkpoints_mlp_every_epoch/checkpoint_23\n",
            "\n",
            "Epoch 00023: val_acc improved from 0.52998 to 0.53699, saving model to /content/gdrive/MyDrive/Colab_Notebooks/Capstone_Project/checkpoints_mlp_best_only/checkpoint\n",
            "Epoch 24/100\n",
            "7/7 [==============================] - 0s 40ms/step - loss: 1.3955 - acc: 0.5523 - precision: 0.8367 - recall: 0.3030 - auc: 0.8850 - val_loss: 1.3616 - val_acc: 0.5782 - val_precision: 0.8371 - val_recall: 0.3038 - val_auc: 0.8928\n",
            "\n",
            "Epoch 00024: saving model to /content/gdrive/MyDrive/Colab_Notebooks/Capstone_Project/checkpoints_mlp_every_epoch/checkpoint_24\n",
            "\n",
            "Epoch 00024: val_acc improved from 0.53699 to 0.57821, saving model to /content/gdrive/MyDrive/Colab_Notebooks/Capstone_Project/checkpoints_mlp_best_only/checkpoint\n",
            "Epoch 25/100\n",
            "7/7 [==============================] - 0s 39ms/step - loss: 1.3437 - acc: 0.5755 - precision: 0.8397 - recall: 0.3259 - auc: 0.8946 - val_loss: 1.3475 - val_acc: 0.5699 - val_precision: 0.8206 - val_recall: 0.3331 - val_auc: 0.8936\n",
            "\n",
            "Epoch 00025: saving model to /content/gdrive/MyDrive/Colab_Notebooks/Capstone_Project/checkpoints_mlp_every_epoch/checkpoint_25\n",
            "\n",
            "Epoch 00025: val_acc did not improve from 0.57821\n",
            "Epoch 26/100\n",
            "7/7 [==============================] - 0s 40ms/step - loss: 1.3106 - acc: 0.5835 - precision: 0.8372 - recall: 0.3476 - auc: 0.8998 - val_loss: 1.3137 - val_acc: 0.5870 - val_precision: 0.8314 - val_recall: 0.3559 - val_auc: 0.8986\n",
            "\n",
            "Epoch 00026: saving model to /content/gdrive/MyDrive/Colab_Notebooks/Capstone_Project/checkpoints_mlp_every_epoch/checkpoint_26\n",
            "\n",
            "Epoch 00026: val_acc improved from 0.57821 to 0.58704, saving model to /content/gdrive/MyDrive/Colab_Notebooks/Capstone_Project/checkpoints_mlp_best_only/checkpoint\n",
            "Epoch 27/100\n",
            "7/7 [==============================] - 0s 42ms/step - loss: 1.2897 - acc: 0.5940 - precision: 0.8390 - recall: 0.3645 - auc: 0.9023 - val_loss: 1.2943 - val_acc: 0.5971 - val_precision: 0.8372 - val_recall: 0.3607 - val_auc: 0.9012\n",
            "\n",
            "Epoch 00027: saving model to /content/gdrive/MyDrive/Colab_Notebooks/Capstone_Project/checkpoints_mlp_every_epoch/checkpoint_27\n",
            "\n",
            "Epoch 00027: val_acc improved from 0.58704 to 0.59705, saving model to /content/gdrive/MyDrive/Colab_Notebooks/Capstone_Project/checkpoints_mlp_best_only/checkpoint\n",
            "Epoch 28/100\n",
            "7/7 [==============================] - 0s 40ms/step - loss: 1.2695 - acc: 0.6007 - precision: 0.8412 - recall: 0.3767 - auc: 0.9051 - val_loss: 1.2837 - val_acc: 0.5923 - val_precision: 0.8374 - val_recall: 0.3739 - val_auc: 0.9022\n",
            "\n",
            "Epoch 00028: saving model to /content/gdrive/MyDrive/Colab_Notebooks/Capstone_Project/checkpoints_mlp_every_epoch/checkpoint_28\n",
            "\n",
            "Epoch 00028: val_acc did not improve from 0.59705\n",
            "Epoch 29/100\n",
            "7/7 [==============================] - 0s 39ms/step - loss: 1.2463 - acc: 0.6085 - precision: 0.8430 - recall: 0.3899 - auc: 0.9085 - val_loss: 1.2503 - val_acc: 0.6076 - val_precision: 0.8329 - val_recall: 0.4019 - val_auc: 0.9074\n",
            "\n",
            "Epoch 00029: saving model to /content/gdrive/MyDrive/Colab_Notebooks/Capstone_Project/checkpoints_mlp_every_epoch/checkpoint_29\n",
            "\n",
            "Epoch 00029: val_acc improved from 0.59705 to 0.60761, saving model to /content/gdrive/MyDrive/Colab_Notebooks/Capstone_Project/checkpoints_mlp_best_only/checkpoint\n",
            "Epoch 30/100\n",
            "7/7 [==============================] - 0s 43ms/step - loss: 1.2218 - acc: 0.6186 - precision: 0.8412 - recall: 0.4085 - auc: 0.9120 - val_loss: 1.2404 - val_acc: 0.6103 - val_precision: 0.8379 - val_recall: 0.3961 - val_auc: 0.9094\n",
            "\n",
            "Epoch 00030: saving model to /content/gdrive/MyDrive/Colab_Notebooks/Capstone_Project/checkpoints_mlp_every_epoch/checkpoint_30\n",
            "\n",
            "Epoch 00030: val_acc improved from 0.60761 to 0.61034, saving model to /content/gdrive/MyDrive/Colab_Notebooks/Capstone_Project/checkpoints_mlp_best_only/checkpoint\n",
            "Epoch 31/100\n",
            "7/7 [==============================] - 0s 37ms/step - loss: 1.2174 - acc: 0.6199 - precision: 0.8369 - recall: 0.4146 - auc: 0.9121 - val_loss: 1.2567 - val_acc: 0.6052 - val_precision: 0.8081 - val_recall: 0.4297 - val_auc: 0.9049\n",
            "\n",
            "Epoch 00031: saving model to /content/gdrive/MyDrive/Colab_Notebooks/Capstone_Project/checkpoints_mlp_every_epoch/checkpoint_31\n",
            "\n",
            "Epoch 00031: val_acc did not improve from 0.61034\n",
            "Epoch 32/100\n",
            "7/7 [==============================] - 0s 42ms/step - loss: 1.2132 - acc: 0.6204 - precision: 0.8291 - recall: 0.4285 - auc: 0.9120 - val_loss: 1.1958 - val_acc: 0.6298 - val_precision: 0.8379 - val_recall: 0.4336 - val_auc: 0.9149\n",
            "\n",
            "Epoch 00032: saving model to /content/gdrive/MyDrive/Colab_Notebooks/Capstone_Project/checkpoints_mlp_every_epoch/checkpoint_32\n",
            "\n",
            "Epoch 00032: val_acc improved from 0.61034 to 0.62981, saving model to /content/gdrive/MyDrive/Colab_Notebooks/Capstone_Project/checkpoints_mlp_best_only/checkpoint\n",
            "Epoch 33/100\n",
            "7/7 [==============================] - 0s 42ms/step - loss: 1.1822 - acc: 0.6344 - precision: 0.8410 - recall: 0.4363 - auc: 0.9171 - val_loss: 1.1771 - val_acc: 0.6357 - val_precision: 0.8422 - val_recall: 0.4399 - val_auc: 0.9182\n",
            "\n",
            "Epoch 00033: saving model to /content/gdrive/MyDrive/Colab_Notebooks/Capstone_Project/checkpoints_mlp_every_epoch/checkpoint_33\n",
            "\n",
            "Epoch 00033: val_acc improved from 0.62981 to 0.63573, saving model to /content/gdrive/MyDrive/Colab_Notebooks/Capstone_Project/checkpoints_mlp_best_only/checkpoint\n",
            "Epoch 34/100\n",
            "7/7 [==============================] - 0s 43ms/step - loss: 1.1562 - acc: 0.6427 - precision: 0.8460 - recall: 0.4508 - auc: 0.9207 - val_loss: 1.1834 - val_acc: 0.6285 - val_precision: 0.8368 - val_recall: 0.4418 - val_auc: 0.9169\n",
            "\n",
            "Epoch 00034: saving model to /content/gdrive/MyDrive/Colab_Notebooks/Capstone_Project/checkpoints_mlp_every_epoch/checkpoint_34\n",
            "\n",
            "Epoch 00034: val_acc did not improve from 0.63573\n",
            "Epoch 35/100\n",
            "7/7 [==============================] - 0s 39ms/step - loss: 1.1597 - acc: 0.6401 - precision: 0.8400 - recall: 0.4597 - auc: 0.9195 - val_loss: 1.1708 - val_acc: 0.6365 - val_precision: 0.8433 - val_recall: 0.4461 - val_auc: 0.9187\n",
            "\n",
            "Epoch 00035: saving model to /content/gdrive/MyDrive/Colab_Notebooks/Capstone_Project/checkpoints_mlp_every_epoch/checkpoint_35\n",
            "\n",
            "Epoch 00035: val_acc improved from 0.63573 to 0.63655, saving model to /content/gdrive/MyDrive/Colab_Notebooks/Capstone_Project/checkpoints_mlp_best_only/checkpoint\n",
            "Epoch 36/100\n",
            "7/7 [==============================] - 0s 38ms/step - loss: 1.1382 - acc: 0.6471 - precision: 0.8441 - recall: 0.4639 - auc: 0.9230 - val_loss: 1.1496 - val_acc: 0.6437 - val_precision: 0.8381 - val_recall: 0.4547 - val_auc: 0.9218\n",
            "\n",
            "Epoch 00036: saving model to /content/gdrive/MyDrive/Colab_Notebooks/Capstone_Project/checkpoints_mlp_every_epoch/checkpoint_36\n",
            "\n",
            "Epoch 00036: val_acc improved from 0.63655 to 0.64373, saving model to /content/gdrive/MyDrive/Colab_Notebooks/Capstone_Project/checkpoints_mlp_best_only/checkpoint\n",
            "Epoch 37/100\n",
            "7/7 [==============================] - 0s 38ms/step - loss: 1.1315 - acc: 0.6507 - precision: 0.8450 - recall: 0.4715 - auc: 0.9236 - val_loss: 1.1683 - val_acc: 0.6345 - val_precision: 0.8327 - val_recall: 0.4544 - val_auc: 0.9184\n",
            "\n",
            "Epoch 00037: saving model to /content/gdrive/MyDrive/Colab_Notebooks/Capstone_Project/checkpoints_mlp_every_epoch/checkpoint_37\n",
            "\n",
            "Epoch 00037: val_acc did not improve from 0.64373\n",
            "Epoch 38/100\n",
            "7/7 [==============================] - 0s 45ms/step - loss: 1.1324 - acc: 0.6461 - precision: 0.8384 - recall: 0.4760 - auc: 0.9233 - val_loss: 1.1378 - val_acc: 0.6491 - val_precision: 0.8495 - val_recall: 0.4611 - val_auc: 0.9231\n",
            "\n",
            "Epoch 00038: saving model to /content/gdrive/MyDrive/Colab_Notebooks/Capstone_Project/checkpoints_mlp_every_epoch/checkpoint_38\n",
            "\n",
            "Epoch 00038: val_acc improved from 0.64373 to 0.64910, saving model to /content/gdrive/MyDrive/Colab_Notebooks/Capstone_Project/checkpoints_mlp_best_only/checkpoint\n",
            "Epoch 39/100\n",
            "7/7 [==============================] - 0s 41ms/step - loss: 1.1091 - acc: 0.6598 - precision: 0.8484 - recall: 0.4827 - auc: 0.9265 - val_loss: 1.1125 - val_acc: 0.6574 - val_precision: 0.8381 - val_recall: 0.4800 - val_auc: 0.9262\n",
            "\n",
            "Epoch 00039: saving model to /content/gdrive/MyDrive/Colab_Notebooks/Capstone_Project/checkpoints_mlp_every_epoch/checkpoint_39\n",
            "\n",
            "Epoch 00039: val_acc improved from 0.64910 to 0.65738, saving model to /content/gdrive/MyDrive/Colab_Notebooks/Capstone_Project/checkpoints_mlp_best_only/checkpoint\n",
            "Epoch 40/100\n",
            "7/7 [==============================] - 0s 40ms/step - loss: 1.0904 - acc: 0.6686 - precision: 0.8484 - recall: 0.4961 - auc: 0.9286 - val_loss: 1.1005 - val_acc: 0.6579 - val_precision: 0.8365 - val_recall: 0.4922 - val_auc: 0.9277\n",
            "\n",
            "Epoch 00040: saving model to /content/gdrive/MyDrive/Colab_Notebooks/Capstone_Project/checkpoints_mlp_every_epoch/checkpoint_40\n",
            "\n",
            "Epoch 00040: val_acc improved from 0.65738 to 0.65793, saving model to /content/gdrive/MyDrive/Colab_Notebooks/Capstone_Project/checkpoints_mlp_best_only/checkpoint\n",
            "Epoch 41/100\n",
            "7/7 [==============================] - 0s 40ms/step - loss: 1.0776 - acc: 0.6726 - precision: 0.8485 - recall: 0.5031 - auc: 0.9302 - val_loss: 1.1004 - val_acc: 0.6591 - val_precision: 0.8391 - val_recall: 0.4934 - val_auc: 0.9274\n",
            "\n",
            "Epoch 00041: saving model to /content/gdrive/MyDrive/Colab_Notebooks/Capstone_Project/checkpoints_mlp_every_epoch/checkpoint_41\n",
            "\n",
            "Epoch 00041: val_acc improved from 0.65793 to 0.65911, saving model to /content/gdrive/MyDrive/Colab_Notebooks/Capstone_Project/checkpoints_mlp_best_only/checkpoint\n",
            "Epoch 42/100\n",
            "7/7 [==============================] - 0s 39ms/step - loss: 1.0718 - acc: 0.6732 - precision: 0.8471 - recall: 0.5067 - auc: 0.9310 - val_loss: 1.0907 - val_acc: 0.6602 - val_precision: 0.8395 - val_recall: 0.4974 - val_auc: 0.9287\n",
            "\n",
            "Epoch 00042: saving model to /content/gdrive/MyDrive/Colab_Notebooks/Capstone_Project/checkpoints_mlp_every_epoch/checkpoint_42\n",
            "\n",
            "Epoch 00042: val_acc improved from 0.65911 to 0.66021, saving model to /content/gdrive/MyDrive/Colab_Notebooks/Capstone_Project/checkpoints_mlp_best_only/checkpoint\n",
            "Epoch 43/100\n",
            "7/7 [==============================] - 0s 40ms/step - loss: 1.0676 - acc: 0.6745 - precision: 0.8535 - recall: 0.5090 - auc: 0.9316 - val_loss: 1.0858 - val_acc: 0.6630 - val_precision: 0.8345 - val_recall: 0.5066 - val_auc: 0.9291\n",
            "\n",
            "Epoch 00043: saving model to /content/gdrive/MyDrive/Colab_Notebooks/Capstone_Project/checkpoints_mlp_every_epoch/checkpoint_43\n",
            "\n",
            "Epoch 00043: val_acc improved from 0.66021 to 0.66303, saving model to /content/gdrive/MyDrive/Colab_Notebooks/Capstone_Project/checkpoints_mlp_best_only/checkpoint\n",
            "Epoch 44/100\n",
            "7/7 [==============================] - 0s 40ms/step - loss: 1.0591 - acc: 0.6776 - precision: 0.8475 - recall: 0.5192 - auc: 0.9322 - val_loss: 1.0673 - val_acc: 0.6683 - val_precision: 0.8475 - val_recall: 0.5072 - val_auc: 0.9321\n",
            "\n",
            "Epoch 00044: saving model to /content/gdrive/MyDrive/Colab_Notebooks/Capstone_Project/checkpoints_mlp_every_epoch/checkpoint_44\n",
            "\n",
            "Epoch 00044: val_acc improved from 0.66303 to 0.66830, saving model to /content/gdrive/MyDrive/Colab_Notebooks/Capstone_Project/checkpoints_mlp_best_only/checkpoint\n",
            "Epoch 45/100\n",
            "7/7 [==============================] - 0s 40ms/step - loss: 1.0445 - acc: 0.6818 - precision: 0.8509 - recall: 0.5231 - auc: 0.9343 - val_loss: 1.0623 - val_acc: 0.6739 - val_precision: 0.8310 - val_recall: 0.5268 - val_auc: 0.9317\n",
            "\n",
            "Epoch 00045: saving model to /content/gdrive/MyDrive/Colab_Notebooks/Capstone_Project/checkpoints_mlp_every_epoch/checkpoint_45\n",
            "\n",
            "Epoch 00045: val_acc improved from 0.66830 to 0.67395, saving model to /content/gdrive/MyDrive/Colab_Notebooks/Capstone_Project/checkpoints_mlp_best_only/checkpoint\n",
            "Epoch 46/100\n",
            "7/7 [==============================] - 0s 40ms/step - loss: 1.0315 - acc: 0.6864 - precision: 0.8521 - recall: 0.5339 - auc: 0.9356 - val_loss: 1.0499 - val_acc: 0.6767 - val_precision: 0.8492 - val_recall: 0.5192 - val_auc: 0.9337\n",
            "\n",
            "Epoch 00046: saving model to /content/gdrive/MyDrive/Colab_Notebooks/Capstone_Project/checkpoints_mlp_every_epoch/checkpoint_46\n",
            "\n",
            "Epoch 00046: val_acc improved from 0.67395 to 0.67668, saving model to /content/gdrive/MyDrive/Colab_Notebooks/Capstone_Project/checkpoints_mlp_best_only/checkpoint\n",
            "Epoch 47/100\n",
            "7/7 [==============================] - 0s 39ms/step - loss: 1.0305 - acc: 0.6857 - precision: 0.8506 - recall: 0.5337 - auc: 0.9358 - val_loss: 1.0622 - val_acc: 0.6728 - val_precision: 0.8265 - val_recall: 0.5365 - val_auc: 0.9312\n",
            "\n",
            "Epoch 00047: saving model to /content/gdrive/MyDrive/Colab_Notebooks/Capstone_Project/checkpoints_mlp_every_epoch/checkpoint_47\n",
            "\n",
            "Epoch 00047: val_acc did not improve from 0.67668\n",
            "Epoch 48/100\n",
            "7/7 [==============================] - 0s 39ms/step - loss: 1.0234 - acc: 0.6875 - precision: 0.8470 - recall: 0.5409 - auc: 0.9364 - val_loss: 1.0579 - val_acc: 0.6732 - val_precision: 0.8481 - val_recall: 0.5152 - val_auc: 0.9329\n",
            "\n",
            "Epoch 00048: saving model to /content/gdrive/MyDrive/Colab_Notebooks/Capstone_Project/checkpoints_mlp_every_epoch/checkpoint_48\n",
            "\n",
            "Epoch 00048: val_acc did not improve from 0.67668\n",
            "Epoch 49/100\n",
            "7/7 [==============================] - 0s 39ms/step - loss: 1.0181 - acc: 0.6880 - precision: 0.8504 - recall: 0.5386 - auc: 0.9375 - val_loss: 1.0232 - val_acc: 0.6855 - val_precision: 0.8460 - val_recall: 0.5361 - val_auc: 0.9368\n",
            "\n",
            "Epoch 00049: saving model to /content/gdrive/MyDrive/Colab_Notebooks/Capstone_Project/checkpoints_mlp_every_epoch/checkpoint_49\n",
            "\n",
            "Epoch 00049: val_acc improved from 0.67668 to 0.68550, saving model to /content/gdrive/MyDrive/Colab_Notebooks/Capstone_Project/checkpoints_mlp_best_only/checkpoint\n",
            "Epoch 50/100\n",
            "7/7 [==============================] - 0s 43ms/step - loss: 0.9882 - acc: 0.7007 - precision: 0.8558 - recall: 0.5545 - auc: 0.9409 - val_loss: 1.0211 - val_acc: 0.6834 - val_precision: 0.8525 - val_recall: 0.5313 - val_auc: 0.9377\n",
            "\n",
            "Epoch 00050: saving model to /content/gdrive/MyDrive/Colab_Notebooks/Capstone_Project/checkpoints_mlp_every_epoch/checkpoint_50\n",
            "\n",
            "Epoch 00050: val_acc did not improve from 0.68550\n",
            "Epoch 51/100\n",
            "7/7 [==============================] - 0s 39ms/step - loss: 0.9983 - acc: 0.6963 - precision: 0.8552 - recall: 0.5538 - auc: 0.9395 - val_loss: 1.0032 - val_acc: 0.6936 - val_precision: 0.8543 - val_recall: 0.5412 - val_auc: 0.9396\n",
            "\n",
            "Epoch 00051: saving model to /content/gdrive/MyDrive/Colab_Notebooks/Capstone_Project/checkpoints_mlp_every_epoch/checkpoint_51\n",
            "\n",
            "Epoch 00051: val_acc improved from 0.68550 to 0.69360, saving model to /content/gdrive/MyDrive/Colab_Notebooks/Capstone_Project/checkpoints_mlp_best_only/checkpoint\n",
            "Epoch 52/100\n",
            "7/7 [==============================] - 0s 44ms/step - loss: 0.9678 - acc: 0.7056 - precision: 0.8632 - recall: 0.5637 - auc: 0.9433 - val_loss: 0.9994 - val_acc: 0.6923 - val_precision: 0.8450 - val_recall: 0.5523 - val_auc: 0.9397\n",
            "\n",
            "Epoch 00052: saving model to /content/gdrive/MyDrive/Colab_Notebooks/Capstone_Project/checkpoints_mlp_every_epoch/checkpoint_52\n",
            "\n",
            "Epoch 00052: val_acc did not improve from 0.69360\n",
            "Epoch 53/100\n",
            "7/7 [==============================] - 0s 42ms/step - loss: 0.9628 - acc: 0.7095 - precision: 0.8611 - recall: 0.5672 - auc: 0.9439 - val_loss: 1.0189 - val_acc: 0.6852 - val_precision: 0.8510 - val_recall: 0.5406 - val_auc: 0.9370\n",
            "\n",
            "Epoch 00053: saving model to /content/gdrive/MyDrive/Colab_Notebooks/Capstone_Project/checkpoints_mlp_every_epoch/checkpoint_53\n",
            "\n",
            "Epoch 00053: val_acc did not improve from 0.69360\n",
            "Epoch 54/100\n",
            "7/7 [==============================] - 0s 39ms/step - loss: 0.9784 - acc: 0.7015 - precision: 0.8581 - recall: 0.5631 - auc: 0.9418 - val_loss: 1.0052 - val_acc: 0.6898 - val_precision: 0.8467 - val_recall: 0.5435 - val_auc: 0.9394\n",
            "\n",
            "Epoch 00054: saving model to /content/gdrive/MyDrive/Colab_Notebooks/Capstone_Project/checkpoints_mlp_every_epoch/checkpoint_54\n",
            "\n",
            "Epoch 00054: val_acc did not improve from 0.69360\n",
            "Epoch 55/100\n",
            "7/7 [==============================] - 0s 37ms/step - loss: 0.9648 - acc: 0.7062 - precision: 0.8600 - recall: 0.5691 - auc: 0.9437 - val_loss: 0.9789 - val_acc: 0.6980 - val_precision: 0.8458 - val_recall: 0.5644 - val_auc: 0.9419\n",
            "\n",
            "Epoch 00055: saving model to /content/gdrive/MyDrive/Colab_Notebooks/Capstone_Project/checkpoints_mlp_every_epoch/checkpoint_55\n",
            "\n",
            "Epoch 00055: val_acc improved from 0.69360 to 0.69797, saving model to /content/gdrive/MyDrive/Colab_Notebooks/Capstone_Project/checkpoints_mlp_best_only/checkpoint\n",
            "Epoch 56/100\n",
            "7/7 [==============================] - 0s 40ms/step - loss: 0.9523 - acc: 0.7089 - precision: 0.8570 - recall: 0.5757 - auc: 0.9449 - val_loss: 0.9686 - val_acc: 0.7012 - val_precision: 0.8467 - val_recall: 0.5718 - val_auc: 0.9429\n",
            "\n",
            "Epoch 00056: saving model to /content/gdrive/MyDrive/Colab_Notebooks/Capstone_Project/checkpoints_mlp_every_epoch/checkpoint_56\n",
            "\n",
            "Epoch 00056: val_acc improved from 0.69797 to 0.70125, saving model to /content/gdrive/MyDrive/Colab_Notebooks/Capstone_Project/checkpoints_mlp_best_only/checkpoint\n",
            "Epoch 57/100\n",
            "7/7 [==============================] - 0s 40ms/step - loss: 0.9403 - acc: 0.7145 - precision: 0.8604 - recall: 0.5844 - auc: 0.9461 - val_loss: 0.9582 - val_acc: 0.7094 - val_precision: 0.8580 - val_recall: 0.5708 - val_auc: 0.9442\n",
            "\n",
            "Epoch 00057: saving model to /content/gdrive/MyDrive/Colab_Notebooks/Capstone_Project/checkpoints_mlp_every_epoch/checkpoint_57\n",
            "\n",
            "Epoch 00057: val_acc improved from 0.70125 to 0.70944, saving model to /content/gdrive/MyDrive/Colab_Notebooks/Capstone_Project/checkpoints_mlp_best_only/checkpoint\n",
            "Epoch 58/100\n",
            "7/7 [==============================] - 0s 43ms/step - loss: 0.9313 - acc: 0.7179 - precision: 0.8621 - recall: 0.5862 - auc: 0.9472 - val_loss: 0.9562 - val_acc: 0.7026 - val_precision: 0.8595 - val_recall: 0.5768 - val_auc: 0.9445\n",
            "\n",
            "Epoch 00058: saving model to /content/gdrive/MyDrive/Colab_Notebooks/Capstone_Project/checkpoints_mlp_every_epoch/checkpoint_58\n",
            "\n",
            "Epoch 00058: val_acc did not improve from 0.70944\n",
            "Epoch 59/100\n",
            "7/7 [==============================] - 0s 41ms/step - loss: 0.9243 - acc: 0.7207 - precision: 0.8665 - recall: 0.5917 - auc: 0.9479 - val_loss: 0.9412 - val_acc: 0.7109 - val_precision: 0.8509 - val_recall: 0.5889 - val_auc: 0.9459\n",
            "\n",
            "Epoch 00059: saving model to /content/gdrive/MyDrive/Colab_Notebooks/Capstone_Project/checkpoints_mlp_every_epoch/checkpoint_59\n",
            "\n",
            "Epoch 00059: val_acc improved from 0.70944 to 0.71089, saving model to /content/gdrive/MyDrive/Colab_Notebooks/Capstone_Project/checkpoints_mlp_best_only/checkpoint\n",
            "Epoch 60/100\n",
            "7/7 [==============================] - 0s 40ms/step - loss: 0.9128 - acc: 0.7248 - precision: 0.8638 - recall: 0.5992 - auc: 0.9490 - val_loss: 0.9293 - val_acc: 0.7138 - val_precision: 0.8592 - val_recall: 0.5854 - val_auc: 0.9476\n",
            "\n",
            "Epoch 00060: saving model to /content/gdrive/MyDrive/Colab_Notebooks/Capstone_Project/checkpoints_mlp_every_epoch/checkpoint_60\n",
            "\n",
            "Epoch 00060: val_acc improved from 0.71089 to 0.71380, saving model to /content/gdrive/MyDrive/Colab_Notebooks/Capstone_Project/checkpoints_mlp_best_only/checkpoint\n",
            "Epoch 61/100\n",
            "7/7 [==============================] - 0s 42ms/step - loss: 0.9014 - acc: 0.7291 - precision: 0.8693 - recall: 0.6023 - auc: 0.9503 - val_loss: 0.9286 - val_acc: 0.7151 - val_precision: 0.8629 - val_recall: 0.5873 - val_auc: 0.9476\n",
            "\n",
            "Epoch 00061: saving model to /content/gdrive/MyDrive/Colab_Notebooks/Capstone_Project/checkpoints_mlp_every_epoch/checkpoint_61\n",
            "\n",
            "Epoch 00061: val_acc improved from 0.71380 to 0.71508, saving model to /content/gdrive/MyDrive/Colab_Notebooks/Capstone_Project/checkpoints_mlp_best_only/checkpoint\n",
            "Epoch 62/100\n",
            "7/7 [==============================] - 0s 39ms/step - loss: 0.8969 - acc: 0.7296 - precision: 0.8697 - recall: 0.6051 - auc: 0.9508 - val_loss: 0.9169 - val_acc: 0.7164 - val_precision: 0.8628 - val_recall: 0.5934 - val_auc: 0.9488\n",
            "\n",
            "Epoch 00062: saving model to /content/gdrive/MyDrive/Colab_Notebooks/Capstone_Project/checkpoints_mlp_every_epoch/checkpoint_62\n",
            "\n",
            "Epoch 00062: val_acc improved from 0.71508 to 0.71635, saving model to /content/gdrive/MyDrive/Colab_Notebooks/Capstone_Project/checkpoints_mlp_best_only/checkpoint\n",
            "Epoch 63/100\n",
            "7/7 [==============================] - 0s 39ms/step - loss: 0.8842 - acc: 0.7340 - precision: 0.8722 - recall: 0.6087 - auc: 0.9522 - val_loss: 0.9178 - val_acc: 0.7173 - val_precision: 0.8584 - val_recall: 0.5935 - val_auc: 0.9488\n",
            "\n",
            "Epoch 00063: saving model to /content/gdrive/MyDrive/Colab_Notebooks/Capstone_Project/checkpoints_mlp_every_epoch/checkpoint_63\n",
            "\n",
            "Epoch 00063: val_acc improved from 0.71635 to 0.71726, saving model to /content/gdrive/MyDrive/Colab_Notebooks/Capstone_Project/checkpoints_mlp_best_only/checkpoint\n",
            "Epoch 64/100\n",
            "7/7 [==============================] - 0s 42ms/step - loss: 0.8888 - acc: 0.7318 - precision: 0.8683 - recall: 0.6087 - auc: 0.9517 - val_loss: 0.9232 - val_acc: 0.7138 - val_precision: 0.8602 - val_recall: 0.5940 - val_auc: 0.9479\n",
            "\n",
            "Epoch 00064: saving model to /content/gdrive/MyDrive/Colab_Notebooks/Capstone_Project/checkpoints_mlp_every_epoch/checkpoint_64\n",
            "\n",
            "Epoch 00064: val_acc did not improve from 0.71726\n",
            "Epoch 65/100\n",
            "7/7 [==============================] - 0s 45ms/step - loss: 0.8839 - acc: 0.7327 - precision: 0.8700 - recall: 0.6125 - auc: 0.9522 - val_loss: 0.9072 - val_acc: 0.7216 - val_precision: 0.8605 - val_recall: 0.6032 - val_auc: 0.9499\n",
            "\n",
            "Epoch 00065: saving model to /content/gdrive/MyDrive/Colab_Notebooks/Capstone_Project/checkpoints_mlp_every_epoch/checkpoint_65\n",
            "\n",
            "Epoch 00065: val_acc improved from 0.71726 to 0.72163, saving model to /content/gdrive/MyDrive/Colab_Notebooks/Capstone_Project/checkpoints_mlp_best_only/checkpoint\n",
            "Epoch 66/100\n",
            "7/7 [==============================] - 0s 44ms/step - loss: 0.8770 - acc: 0.7374 - precision: 0.8697 - recall: 0.6159 - auc: 0.9528 - val_loss: 0.9211 - val_acc: 0.7175 - val_precision: 0.8506 - val_recall: 0.6066 - val_auc: 0.9480\n",
            "\n",
            "Epoch 00066: saving model to /content/gdrive/MyDrive/Colab_Notebooks/Capstone_Project/checkpoints_mlp_every_epoch/checkpoint_66\n",
            "\n",
            "Epoch 00066: val_acc did not improve from 0.72163\n",
            "Epoch 67/100\n",
            "7/7 [==============================] - 0s 40ms/step - loss: 0.8870 - acc: 0.7291 - precision: 0.8644 - recall: 0.6137 - auc: 0.9516 - val_loss: 0.9290 - val_acc: 0.7113 - val_precision: 0.8531 - val_recall: 0.6021 - val_auc: 0.9474\n",
            "\n",
            "Epoch 00067: saving model to /content/gdrive/MyDrive/Colab_Notebooks/Capstone_Project/checkpoints_mlp_every_epoch/checkpoint_67\n",
            "\n",
            "Epoch 00067: val_acc did not improve from 0.72163\n",
            "Epoch 68/100\n",
            "7/7 [==============================] - 0s 41ms/step - loss: 0.8930 - acc: 0.7266 - precision: 0.8637 - recall: 0.6136 - auc: 0.9510 - val_loss: 0.9049 - val_acc: 0.7189 - val_precision: 0.8561 - val_recall: 0.6062 - val_auc: 0.9501\n",
            "\n",
            "Epoch 00068: saving model to /content/gdrive/MyDrive/Colab_Notebooks/Capstone_Project/checkpoints_mlp_every_epoch/checkpoint_68\n",
            "\n",
            "Epoch 00068: val_acc did not improve from 0.72163\n",
            "Epoch 69/100\n",
            "7/7 [==============================] - 0s 40ms/step - loss: 0.8722 - acc: 0.7360 - precision: 0.8701 - recall: 0.6197 - auc: 0.9532 - val_loss: 0.9074 - val_acc: 0.7222 - val_precision: 0.8617 - val_recall: 0.5989 - val_auc: 0.9499\n",
            "\n",
            "Epoch 00069: saving model to /content/gdrive/MyDrive/Colab_Notebooks/Capstone_Project/checkpoints_mlp_every_epoch/checkpoint_69\n",
            "\n",
            "Epoch 00069: val_acc improved from 0.72163 to 0.72218, saving model to /content/gdrive/MyDrive/Colab_Notebooks/Capstone_Project/checkpoints_mlp_best_only/checkpoint\n",
            "Epoch 70/100\n",
            "7/7 [==============================] - 0s 44ms/step - loss: 0.8678 - acc: 0.7370 - precision: 0.8699 - recall: 0.6219 - auc: 0.9537 - val_loss: 0.8738 - val_acc: 0.7351 - val_precision: 0.8737 - val_recall: 0.6159 - val_auc: 0.9533\n",
            "\n",
            "Epoch 00070: saving model to /content/gdrive/MyDrive/Colab_Notebooks/Capstone_Project/checkpoints_mlp_every_epoch/checkpoint_70\n",
            "\n",
            "Epoch 00070: val_acc improved from 0.72218 to 0.73510, saving model to /content/gdrive/MyDrive/Colab_Notebooks/Capstone_Project/checkpoints_mlp_best_only/checkpoint\n",
            "Epoch 71/100\n",
            "7/7 [==============================] - 0s 36ms/step - loss: 0.8463 - acc: 0.7457 - precision: 0.8768 - recall: 0.6291 - auc: 0.9559 - val_loss: 0.8719 - val_acc: 0.7343 - val_precision: 0.8724 - val_recall: 0.6184 - val_auc: 0.9535\n",
            "\n",
            "Epoch 00071: saving model to /content/gdrive/MyDrive/Colab_Notebooks/Capstone_Project/checkpoints_mlp_every_epoch/checkpoint_71\n",
            "\n",
            "Epoch 00071: val_acc did not improve from 0.73510\n",
            "Epoch 72/100\n",
            "7/7 [==============================] - 0s 41ms/step - loss: 0.8418 - acc: 0.7469 - precision: 0.8772 - recall: 0.6340 - auc: 0.9564 - val_loss: 0.9385 - val_acc: 0.7087 - val_precision: 0.8336 - val_recall: 0.6078 - val_auc: 0.9459\n",
            "\n",
            "Epoch 00072: saving model to /content/gdrive/MyDrive/Colab_Notebooks/Capstone_Project/checkpoints_mlp_every_epoch/checkpoint_72\n",
            "\n",
            "Epoch 00072: val_acc did not improve from 0.73510\n",
            "Epoch 73/100\n",
            "7/7 [==============================] - 0s 41ms/step - loss: 0.8706 - acc: 0.7353 - precision: 0.8651 - recall: 0.6281 - auc: 0.9532 - val_loss: 0.8798 - val_acc: 0.7317 - val_precision: 0.8702 - val_recall: 0.6132 - val_auc: 0.9529\n",
            "\n",
            "Epoch 00073: saving model to /content/gdrive/MyDrive/Colab_Notebooks/Capstone_Project/checkpoints_mlp_every_epoch/checkpoint_73\n",
            "\n",
            "Epoch 00073: val_acc did not improve from 0.73510\n",
            "Epoch 74/100\n",
            "7/7 [==============================] - 0s 37ms/step - loss: 0.8317 - acc: 0.7501 - precision: 0.8805 - recall: 0.6345 - auc: 0.9574 - val_loss: 0.8616 - val_acc: 0.7368 - val_precision: 0.8681 - val_recall: 0.6252 - val_auc: 0.9546\n",
            "\n",
            "Epoch 00074: saving model to /content/gdrive/MyDrive/Colab_Notebooks/Capstone_Project/checkpoints_mlp_every_epoch/checkpoint_74\n",
            "\n",
            "Epoch 00074: val_acc improved from 0.73510 to 0.73683, saving model to /content/gdrive/MyDrive/Colab_Notebooks/Capstone_Project/checkpoints_mlp_best_only/checkpoint\n",
            "Epoch 75/100\n",
            "7/7 [==============================] - 0s 47ms/step - loss: 0.8231 - acc: 0.7513 - precision: 0.8780 - recall: 0.6448 - auc: 0.9581 - val_loss: 0.8577 - val_acc: 0.7366 - val_precision: 0.8713 - val_recall: 0.6257 - val_auc: 0.9552\n",
            "\n",
            "Epoch 00075: saving model to /content/gdrive/MyDrive/Colab_Notebooks/Capstone_Project/checkpoints_mlp_every_epoch/checkpoint_75\n",
            "\n",
            "Epoch 00075: val_acc did not improve from 0.73683\n",
            "Epoch 76/100\n",
            "7/7 [==============================] - 0s 42ms/step - loss: 0.8177 - acc: 0.7541 - precision: 0.8815 - recall: 0.6443 - auc: 0.9588 - val_loss: 0.8419 - val_acc: 0.7413 - val_precision: 0.8763 - val_recall: 0.6356 - val_auc: 0.9563\n",
            "\n",
            "Epoch 00076: saving model to /content/gdrive/MyDrive/Colab_Notebooks/Capstone_Project/checkpoints_mlp_every_epoch/checkpoint_76\n",
            "\n",
            "Epoch 00076: val_acc improved from 0.73683 to 0.74129, saving model to /content/gdrive/MyDrive/Colab_Notebooks/Capstone_Project/checkpoints_mlp_best_only/checkpoint\n",
            "Epoch 77/100\n",
            "7/7 [==============================] - 0s 40ms/step - loss: 0.8085 - acc: 0.7577 - precision: 0.8814 - recall: 0.6503 - auc: 0.9594 - val_loss: 0.8405 - val_acc: 0.7452 - val_precision: 0.8683 - val_recall: 0.6368 - val_auc: 0.9564\n",
            "\n",
            "Epoch 00077: saving model to /content/gdrive/MyDrive/Colab_Notebooks/Capstone_Project/checkpoints_mlp_every_epoch/checkpoint_77\n",
            "\n",
            "Epoch 00077: val_acc improved from 0.74129 to 0.74520, saving model to /content/gdrive/MyDrive/Colab_Notebooks/Capstone_Project/checkpoints_mlp_best_only/checkpoint\n",
            "Epoch 78/100\n",
            "7/7 [==============================] - 0s 43ms/step - loss: 0.7999 - acc: 0.7579 - precision: 0.8808 - recall: 0.6540 - auc: 0.9603 - val_loss: 0.8399 - val_acc: 0.7481 - val_precision: 0.8698 - val_recall: 0.6409 - val_auc: 0.9561\n",
            "\n",
            "Epoch 00078: saving model to /content/gdrive/MyDrive/Colab_Notebooks/Capstone_Project/checkpoints_mlp_every_epoch/checkpoint_78\n",
            "\n",
            "Epoch 00078: val_acc improved from 0.74520 to 0.74811, saving model to /content/gdrive/MyDrive/Colab_Notebooks/Capstone_Project/checkpoints_mlp_best_only/checkpoint\n",
            "Epoch 79/100\n",
            "7/7 [==============================] - 0s 38ms/step - loss: 0.7899 - acc: 0.7627 - precision: 0.8831 - recall: 0.6570 - auc: 0.9614 - val_loss: 0.8381 - val_acc: 0.7481 - val_precision: 0.8799 - val_recall: 0.6368 - val_auc: 0.9564\n",
            "\n",
            "Epoch 00079: saving model to /content/gdrive/MyDrive/Colab_Notebooks/Capstone_Project/checkpoints_mlp_every_epoch/checkpoint_79\n",
            "\n",
            "Epoch 00079: val_acc did not improve from 0.74811\n",
            "Epoch 80/100\n",
            "7/7 [==============================] - 0s 48ms/step - loss: 0.7991 - acc: 0.7598 - precision: 0.8826 - recall: 0.6548 - auc: 0.9604 - val_loss: 0.8269 - val_acc: 0.7497 - val_precision: 0.8757 - val_recall: 0.6448 - val_auc: 0.9576\n",
            "\n",
            "Epoch 00080: saving model to /content/gdrive/MyDrive/Colab_Notebooks/Capstone_Project/checkpoints_mlp_every_epoch/checkpoint_80\n",
            "\n",
            "Epoch 00080: val_acc improved from 0.74811 to 0.74975, saving model to /content/gdrive/MyDrive/Colab_Notebooks/Capstone_Project/checkpoints_mlp_best_only/checkpoint\n",
            "Epoch 81/100\n",
            "7/7 [==============================] - 0s 43ms/step - loss: 0.7879 - acc: 0.7627 - precision: 0.8827 - recall: 0.6586 - auc: 0.9615 - val_loss: 0.8242 - val_acc: 0.7495 - val_precision: 0.8745 - val_recall: 0.6487 - val_auc: 0.9578\n",
            "\n",
            "Epoch 00081: saving model to /content/gdrive/MyDrive/Colab_Notebooks/Capstone_Project/checkpoints_mlp_every_epoch/checkpoint_81\n",
            "\n",
            "Epoch 00081: val_acc did not improve from 0.74975\n",
            "Epoch 82/100\n",
            "7/7 [==============================] - 0s 39ms/step - loss: 0.7815 - acc: 0.7654 - precision: 0.8833 - recall: 0.6630 - auc: 0.9621 - val_loss: 0.8264 - val_acc: 0.7490 - val_precision: 0.8772 - val_recall: 0.6437 - val_auc: 0.9578\n",
            "\n",
            "Epoch 00082: saving model to /content/gdrive/MyDrive/Colab_Notebooks/Capstone_Project/checkpoints_mlp_every_epoch/checkpoint_82\n",
            "\n",
            "Epoch 00082: val_acc did not improve from 0.74975\n",
            "Epoch 83/100\n",
            "7/7 [==============================] - 0s 38ms/step - loss: 0.7883 - acc: 0.7639 - precision: 0.8803 - recall: 0.6621 - auc: 0.9614 - val_loss: 0.8153 - val_acc: 0.7545 - val_precision: 0.8758 - val_recall: 0.6531 - val_auc: 0.9588\n",
            "\n",
            "Epoch 00083: saving model to /content/gdrive/MyDrive/Colab_Notebooks/Capstone_Project/checkpoints_mlp_every_epoch/checkpoint_83\n",
            "\n",
            "Epoch 00083: val_acc improved from 0.74975 to 0.75448, saving model to /content/gdrive/MyDrive/Colab_Notebooks/Capstone_Project/checkpoints_mlp_best_only/checkpoint\n",
            "Epoch 84/100\n",
            "7/7 [==============================] - 0s 39ms/step - loss: 0.7704 - acc: 0.7685 - precision: 0.8850 - recall: 0.6666 - auc: 0.9631 - val_loss: 0.8131 - val_acc: 0.7530 - val_precision: 0.8729 - val_recall: 0.6560 - val_auc: 0.9587\n",
            "\n",
            "Epoch 00084: saving model to /content/gdrive/MyDrive/Colab_Notebooks/Capstone_Project/checkpoints_mlp_every_epoch/checkpoint_84\n",
            "\n",
            "Epoch 00084: val_acc did not improve from 0.75448\n",
            "Epoch 85/100\n",
            "7/7 [==============================] - 0s 41ms/step - loss: 0.7692 - acc: 0.7709 - precision: 0.8857 - recall: 0.6715 - auc: 0.9629 - val_loss: 0.8191 - val_acc: 0.7470 - val_precision: 0.8666 - val_recall: 0.6550 - val_auc: 0.9583\n",
            "\n",
            "Epoch 00085: saving model to /content/gdrive/MyDrive/Colab_Notebooks/Capstone_Project/checkpoints_mlp_every_epoch/checkpoint_85\n",
            "\n",
            "Epoch 00085: val_acc did not improve from 0.75448\n",
            "Epoch 86/100\n",
            "7/7 [==============================] - 0s 40ms/step - loss: 0.7691 - acc: 0.7667 - precision: 0.8819 - recall: 0.6698 - auc: 0.9633 - val_loss: 0.8201 - val_acc: 0.7537 - val_precision: 0.8657 - val_recall: 0.6540 - val_auc: 0.9578\n",
            "\n",
            "Epoch 00086: saving model to /content/gdrive/MyDrive/Colab_Notebooks/Capstone_Project/checkpoints_mlp_every_epoch/checkpoint_86\n",
            "\n",
            "Epoch 00086: val_acc did not improve from 0.75448\n",
            "Epoch 87/100\n",
            "7/7 [==============================] - 0s 39ms/step - loss: 0.7809 - acc: 0.7624 - precision: 0.8777 - recall: 0.6669 - auc: 0.9621 - val_loss: 0.8149 - val_acc: 0.7524 - val_precision: 0.8710 - val_recall: 0.6566 - val_auc: 0.9587\n",
            "\n",
            "Epoch 00087: saving model to /content/gdrive/MyDrive/Colab_Notebooks/Capstone_Project/checkpoints_mlp_every_epoch/checkpoint_87\n",
            "\n",
            "Epoch 00087: val_acc did not improve from 0.75448\n",
            "Epoch 88/100\n",
            "7/7 [==============================] - 0s 42ms/step - loss: 0.7677 - acc: 0.7676 - precision: 0.8832 - recall: 0.6694 - auc: 0.9634 - val_loss: 0.8115 - val_acc: 0.7533 - val_precision: 0.8757 - val_recall: 0.6545 - val_auc: 0.9590\n",
            "\n",
            "Epoch 00088: saving model to /content/gdrive/MyDrive/Colab_Notebooks/Capstone_Project/checkpoints_mlp_every_epoch/checkpoint_88\n",
            "\n",
            "Epoch 00088: val_acc did not improve from 0.75448\n",
            "Epoch 89/100\n",
            "7/7 [==============================] - 0s 40ms/step - loss: 0.7569 - acc: 0.7713 - precision: 0.8862 - recall: 0.6742 - auc: 0.9644 - val_loss: 0.8038 - val_acc: 0.7611 - val_precision: 0.8843 - val_recall: 0.6555 - val_auc: 0.9595\n",
            "\n",
            "Epoch 00089: saving model to /content/gdrive/MyDrive/Colab_Notebooks/Capstone_Project/checkpoints_mlp_every_epoch/checkpoint_89\n",
            "\n",
            "Epoch 00089: val_acc improved from 0.75448 to 0.76112, saving model to /content/gdrive/MyDrive/Colab_Notebooks/Capstone_Project/checkpoints_mlp_best_only/checkpoint\n",
            "Epoch 90/100\n",
            "7/7 [==============================] - 0s 43ms/step - loss: 0.7594 - acc: 0.7722 - precision: 0.8867 - recall: 0.6732 - auc: 0.9640 - val_loss: 0.7971 - val_acc: 0.7595 - val_precision: 0.8791 - val_recall: 0.6625 - val_auc: 0.9603\n",
            "\n",
            "Epoch 00090: saving model to /content/gdrive/MyDrive/Colab_Notebooks/Capstone_Project/checkpoints_mlp_every_epoch/checkpoint_90\n",
            "\n",
            "Epoch 00090: val_acc did not improve from 0.76112\n",
            "Epoch 91/100\n",
            "7/7 [==============================] - 0s 47ms/step - loss: 0.7452 - acc: 0.7761 - precision: 0.8903 - recall: 0.6809 - auc: 0.9654 - val_loss: 0.8027 - val_acc: 0.7563 - val_precision: 0.8749 - val_recall: 0.6631 - val_auc: 0.9597\n",
            "\n",
            "Epoch 00091: saving model to /content/gdrive/MyDrive/Colab_Notebooks/Capstone_Project/checkpoints_mlp_every_epoch/checkpoint_91\n",
            "\n",
            "Epoch 00091: val_acc did not improve from 0.76112\n",
            "Epoch 92/100\n",
            "7/7 [==============================] - 0s 44ms/step - loss: 0.7517 - acc: 0.7764 - precision: 0.8874 - recall: 0.6789 - auc: 0.9646 - val_loss: 0.7926 - val_acc: 0.7632 - val_precision: 0.8878 - val_recall: 0.6611 - val_auc: 0.9607\n",
            "\n",
            "Epoch 00092: saving model to /content/gdrive/MyDrive/Colab_Notebooks/Capstone_Project/checkpoints_mlp_every_epoch/checkpoint_92\n",
            "\n",
            "Epoch 00092: val_acc improved from 0.76112 to 0.76322, saving model to /content/gdrive/MyDrive/Colab_Notebooks/Capstone_Project/checkpoints_mlp_best_only/checkpoint\n",
            "Epoch 93/100\n",
            "7/7 [==============================] - 0s 44ms/step - loss: 0.7372 - acc: 0.7783 - precision: 0.8907 - recall: 0.6854 - auc: 0.9659 - val_loss: 0.8108 - val_acc: 0.7535 - val_precision: 0.8601 - val_recall: 0.6702 - val_auc: 0.9585\n",
            "\n",
            "Epoch 00093: saving model to /content/gdrive/MyDrive/Colab_Notebooks/Capstone_Project/checkpoints_mlp_every_epoch/checkpoint_93\n",
            "\n",
            "Epoch 00093: val_acc did not improve from 0.76322\n",
            "Epoch 94/100\n",
            "7/7 [==============================] - 0s 38ms/step - loss: 0.7447 - acc: 0.7741 - precision: 0.8829 - recall: 0.6855 - auc: 0.9652 - val_loss: 0.7988 - val_acc: 0.7599 - val_precision: 0.8840 - val_recall: 0.6600 - val_auc: 0.9599\n",
            "\n",
            "Epoch 00094: saving model to /content/gdrive/MyDrive/Colab_Notebooks/Capstone_Project/checkpoints_mlp_every_epoch/checkpoint_94\n",
            "\n",
            "Epoch 00094: val_acc did not improve from 0.76322\n",
            "Epoch 95/100\n",
            "7/7 [==============================] - 0s 46ms/step - loss: 0.7444 - acc: 0.7767 - precision: 0.8898 - recall: 0.6810 - auc: 0.9656 - val_loss: 0.7878 - val_acc: 0.7614 - val_precision: 0.8755 - val_recall: 0.6678 - val_auc: 0.9610\n",
            "\n",
            "Epoch 00095: saving model to /content/gdrive/MyDrive/Colab_Notebooks/Capstone_Project/checkpoints_mlp_every_epoch/checkpoint_95\n",
            "\n",
            "Epoch 00095: val_acc did not improve from 0.76322\n",
            "Epoch 96/100\n",
            "7/7 [==============================] - 0s 44ms/step - loss: 0.7380 - acc: 0.7779 - precision: 0.8878 - recall: 0.6854 - auc: 0.9658 - val_loss: 0.7751 - val_acc: 0.7667 - val_precision: 0.8812 - val_recall: 0.6706 - val_auc: 0.9621\n",
            "\n",
            "Epoch 00096: saving model to /content/gdrive/MyDrive/Colab_Notebooks/Capstone_Project/checkpoints_mlp_every_epoch/checkpoint_96\n",
            "\n",
            "Epoch 00096: val_acc improved from 0.76322 to 0.76668, saving model to /content/gdrive/MyDrive/Colab_Notebooks/Capstone_Project/checkpoints_mlp_best_only/checkpoint\n",
            "Epoch 97/100\n",
            "7/7 [==============================] - 0s 41ms/step - loss: 0.7261 - acc: 0.7813 - precision: 0.8899 - recall: 0.6883 - auc: 0.9670 - val_loss: 0.7869 - val_acc: 0.7647 - val_precision: 0.8822 - val_recall: 0.6652 - val_auc: 0.9611\n",
            "\n",
            "Epoch 00097: saving model to /content/gdrive/MyDrive/Colab_Notebooks/Capstone_Project/checkpoints_mlp_every_epoch/checkpoint_97\n",
            "\n",
            "Epoch 00097: val_acc did not improve from 0.76668\n",
            "Epoch 98/100\n",
            "7/7 [==============================] - 0s 44ms/step - loss: 0.7286 - acc: 0.7806 - precision: 0.8897 - recall: 0.6904 - auc: 0.9668 - val_loss: 0.7699 - val_acc: 0.7675 - val_precision: 0.8752 - val_recall: 0.6832 - val_auc: 0.9623\n",
            "\n",
            "Epoch 00098: saving model to /content/gdrive/MyDrive/Colab_Notebooks/Capstone_Project/checkpoints_mlp_every_epoch/checkpoint_98\n",
            "\n",
            "Epoch 00098: val_acc improved from 0.76668 to 0.76749, saving model to /content/gdrive/MyDrive/Colab_Notebooks/Capstone_Project/checkpoints_mlp_best_only/checkpoint\n",
            "Epoch 99/100\n",
            "7/7 [==============================] - 0s 42ms/step - loss: 0.7199 - acc: 0.7846 - precision: 0.8919 - recall: 0.6948 - auc: 0.9674 - val_loss: 0.7760 - val_acc: 0.7663 - val_precision: 0.8793 - val_recall: 0.6752 - val_auc: 0.9622\n",
            "\n",
            "Epoch 00099: saving model to /content/gdrive/MyDrive/Colab_Notebooks/Capstone_Project/checkpoints_mlp_every_epoch/checkpoint_99\n",
            "\n",
            "Epoch 00099: val_acc did not improve from 0.76749\n",
            "Epoch 100/100\n",
            "7/7 [==============================] - 0s 42ms/step - loss: 0.7121 - acc: 0.7873 - precision: 0.8926 - recall: 0.6962 - auc: 0.9681 - val_loss: 0.7620 - val_acc: 0.7701 - val_precision: 0.8873 - val_recall: 0.6747 - val_auc: 0.9634\n",
            "\n",
            "Epoch 00100: saving model to /content/gdrive/MyDrive/Colab_Notebooks/Capstone_Project/checkpoints_mlp_every_epoch/checkpoint_100\n",
            "\n",
            "Epoch 00100: val_acc improved from 0.76749 to 0.77013, saving model to /content/gdrive/MyDrive/Colab_Notebooks/Capstone_Project/checkpoints_mlp_best_only/checkpoint\n"
          ],
          "name": "stdout"
        }
      ]
    },
    {
      "cell_type": "code",
      "metadata": {
        "id": "COQKhezQpmVp"
      },
      "source": [
        "#Clear directories (if necessary)\n",
        "! rm -r /content/gdrive/MyDrive/Colab_Notebooks/Capstone_Project/checkpoints_mlp_best_only\n",
        "! rm -r /content/gdrive/MyDrive/Colab_Notebooks/Capstone_Project/checkpoints_mlp_every_epoch"
      ],
      "execution_count": null,
      "outputs": []
    },
    {
      "cell_type": "code",
      "metadata": {
        "colab": {
          "base_uri": "https://localhost:8080/"
        },
        "id": "pnQ8E5-VpmdI",
        "outputId": "6641e953-dd7a-43e9-ad40-ec793d255c8e"
      },
      "source": [
        "# Have a look at what the checkpoint creates\n",
        "! ls -lh /content/gdrive/MyDrive/Colab_Notebooks/Capstone_Project/checkpoints_mlp_best_only"
      ],
      "execution_count": null,
      "outputs": [
        {
          "output_type": "stream",
          "text": [
            "total 4.2M\n",
            "-rw------- 1 root root   77 May 20 10:21 checkpoint\n",
            "-rw------- 1 root root 4.2M May 20 10:21 checkpoint.data-00000-of-00001\n",
            "-rw------- 1 root root 2.1K May 20 10:21 checkpoint.index\n"
          ],
          "name": "stdout"
        }
      ]
    },
    {
      "cell_type": "code",
      "metadata": {
        "id": "gAKV75g3Y2ik"
      },
      "source": [
        "#Save history\n",
        "np.save('/content/gdrive/MyDrive/Colab_Notebooks/Capstone_Project/History/history_mlp.npy',history.history)"
      ],
      "execution_count": null,
      "outputs": []
    },
    {
      "cell_type": "code",
      "metadata": {
        "colab": {
          "base_uri": "https://localhost:8080/",
          "height": 295
        },
        "id": "exjLRYwDpjWT",
        "outputId": "9d51b8ea-adf7-4e3c-a54b-e5a94854a3bb"
      },
      "source": [
        "#Epoch vs loss graph\n",
        "plt.plot(history.history['loss'])\n",
        "plt.plot(history.history['val_loss'])\n",
        "plt.title('MLP Loss vs. epochs')\n",
        "plt.ylabel('Loss')\n",
        "plt.xlabel('Epoch')\n",
        "plt.legend(['Training', 'Validation'], loc='upper right')\n",
        "plt.show() "
      ],
      "execution_count": null,
      "outputs": [
        {
          "output_type": "display_data",
          "data": {
            "image/png": "[encoded data removed]",
            "text/plain": [
              "<Figure size 432x288 with 1 Axes>"
            ]
          },
          "metadata": {
            "tags": [],
            "needs_background": "light"
          }
        }
      ]
    },
    {
      "cell_type": "code",
      "metadata": {
        "colab": {
          "base_uri": "https://localhost:8080/",
          "height": 295
        },
        "id": "90_fJxiEppV9",
        "outputId": "efd6d2ca-cf65-40c6-a5d8-d7368cd29111"
      },
      "source": [
        "# Epoch vs accuracy graph\n",
        "\n",
        "try:\n",
        "    plt.plot(history.history['accuracy'])\n",
        "    plt.plot(history.history['val_accuracy'])\n",
        "except KeyError:\n",
        "    plt.plot(history.history['acc'])\n",
        "    plt.plot(history.history['val_acc'])\n",
        "plt.title('MLP Accuracy vs. epochs')\n",
        "plt.ylabel('Accuracy')\n",
        "plt.xlabel('Epoch')\n",
        "plt.legend(['Training', 'Validation'], loc='lower right')\n",
        "plt.show() "
      ],
      "execution_count": null,
      "outputs": [
        {
          "output_type": "display_data",
          "data": {
            "image/png": "[encoded data removed]",
            "text/plain": [
              "<Figure size 432x288 with 1 Axes>"
            ]
          },
          "metadata": {
            "tags": [],
            "needs_background": "light"
          }
        }
      ]
    },
    {
      "cell_type": "code",
      "metadata": {
        "colab": {
          "base_uri": "https://localhost:8080/"
        },
        "id": "yXuuvZtAJgEc",
        "outputId": "d93a42d5-0a16-48d2-e0ee-2635f1eb7e5b"
      },
      "source": [
        "#Load best Weights MLP\n",
        "final_model_mlp  = get_new_MLP_model(x_trainv[0].shape)\n",
        "final_model_mlp.load_weights('/content/gdrive/MyDrive/Colab_Notebooks/Capstone_Project/checkpoints_mlp_best_only/checkpoint')\n"
      ],
      "execution_count": null,
      "outputs": [
        {
          "output_type": "execute_result",
          "data": {
            "text/plain": [
              "<tensorflow.python.training.tracking.util.CheckpointLoadStatus at 0x7f325ae95f90>"
            ]
          },
          "metadata": {
            "tags": []
          },
          "execution_count": 132
        }
      ]
    },
    {
      "cell_type": "code",
      "metadata": {
        "colab": {
          "base_uri": "https://localhost:8080/"
        },
        "id": "ecOVrJ9nppcA",
        "outputId": "035daaf4-c4ed-4093-a6ff-9fcc56803409"
      },
      "source": [
        "# Evaluate the model on the train set\n",
        "\n",
        "train_loss_mlp, train_acc_mlp, train_prec_mlp, train_recall_mlp, train_auc_mlp = final_model_mlp.evaluate(x_trainv,y_trainv, verbose=0)\n",
        "\n",
        "print(\"Train loss: {:.3f}\\nTrain accuracy: {:.2f}%\\nTrain precision: {:.2f}%\\nTrain recall: {:.2f}%\\nTrain AUC: {:.2f}\".format(train_loss_mlp, 100 * train_acc_mlp,100*train_prec_mlp,100*train_recall_mlp,train_auc_mlp ))"
      ],
      "execution_count": null,
      "outputs": [
        {
          "output_type": "stream",
          "text": [
            "Train loss: 0.706\n",
            "Train accuracy: 78.88%\n",
            "Train precision: 89.65%\n",
            "Train recall: 69.58%\n",
            "Train AUC: 0.97\n"
          ],
          "name": "stdout"
        }
      ]
    },
    {
      "cell_type": "code",
      "metadata": {
        "colab": {
          "base_uri": "https://localhost:8080/"
        },
        "id": "S-DNwXSnpsNp",
        "outputId": "468db794-89a8-4648-fcca-c9d1bc750c31"
      },
      "source": [
        "# Evaluate the model on the test set\n",
        "\n",
        "test_loss_mlp, test_acc_mlp, test_prec_mlp, test_recall_mlp, test_auc_mlp = final_model_mlp.evaluate(x_test_gs ,y_test, verbose=0)\n",
        "\n",
        "print(\"Test loss: {:.3f}\\nTest accuracy: {:.2f}%\\nTest precision: {:.2f}%\\nTest recall: {:.2f}%\\nTest AUC: {:.2f}\".format(test_loss_mlp, 100 * test_acc_mlp,100*test_prec_mlp,100*test_recall_mlp,test_auc_mlp ))"
      ],
      "execution_count": null,
      "outputs": [
        {
          "output_type": "stream",
          "text": [
            "Test loss: 0.858\n",
            "Test accuracy: 75.08%\n",
            "Test precision: 85.15%\n",
            "Test recall: 66.66%\n",
            "Test AUC: 0.95\n"
          ],
          "name": "stdout"
        }
      ]
    },
    {
      "cell_type": "markdown",
      "metadata": {
        "id": "Q9Tp530r931G"
      },
      "source": [
        "## 3. CNN neural network classifier"
      ]
    },
    {
      "cell_type": "code",
      "metadata": {
        "id": "yk2mH3Npz_Gh"
      },
      "source": [
        "def get_new_CNN_model(input_shape):\n",
        "    \n",
        "    \n",
        "    \n",
        "    model = Sequential([\n",
        "        Conv2D(16,(3,3),activation = 'relu',input_shape=input_shape, padding='SAME', data_format= 'channels_last',name='Conv_1'),        \n",
        "        MaxPooling2D(pool_size=(2, 2), strides=(2, 2),name ='Pool_1'),\n",
        "        Conv2D(32,(3,3),activation = 'relu', padding='SAME', name='Conv_2'),        \n",
        "        MaxPooling2D(pool_size=(2, 2), strides=(2, 2),name ='Pool_2'),\n",
        "        Conv2D(64,(3,3),activation = 'relu', padding='SAME', name='Conv_3'),\n",
        "        BatchNormalization(name='Batch_Normalization'),\n",
        "        MaxPooling2D(pool_size=(2, 2), strides=(2, 2),name ='Pool_3'),     \n",
        "        Flatten(name='Flatten'),        \n",
        "        Dense(256,activation = 'relu', name= 'Dense_1'),\n",
        "        Dense(256,activation = 'relu', name= 'Dense_2'),\n",
        "        Dropout(0.5, name='Dropout'),\n",
        "        Dense(10,activation = 'softmax', name= 'Dense_3')\n",
        "        \n",
        "    ])\n",
        "    \n",
        "    #The learning rate. Defaults to 0.001.\n",
        "    opt = tf.keras.optimizers.Adam(learning_rate = 0.001)\n",
        "    #opt= tf.keras.optimizers.SGD(learning_rate=0.001, momentum=0.9, nesterov=False, name=\"SGD\")\n",
        "\n",
        "    \n",
        "    model.compile(optimizer = opt , loss= 'categorical_crossentropy', metrics=['acc',keras.metrics.Precision(name='precision'),\n",
        "                                                                                    keras.metrics.Recall(name='recall'),\n",
        "                                                                                      keras.metrics.AUC(name='auc')])\n",
        "    \n",
        "    return model "
      ],
      "execution_count": null,
      "outputs": []
    },
    {
      "cell_type": "code",
      "metadata": {
        "id": "lbgRgZ5cz_Gn"
      },
      "source": [
        "cnn_model = get_new_CNN_model(x_trainv[0].shape)"
      ],
      "execution_count": null,
      "outputs": []
    },
    {
      "cell_type": "code",
      "metadata": {
        "id": "nkmS2vV2z_Gs",
        "colab": {
          "base_uri": "https://localhost:8080/"
        },
        "outputId": "4962d61a-1c2c-43cb-e094-513190dcd019"
      },
      "source": [
        "cnn_model.summary()"
      ],
      "execution_count": null,
      "outputs": [
        {
          "output_type": "stream",
          "text": [
            "Model: \"sequential_5\"\n",
            "_________________________________________________________________\n",
            "Layer (type)                 Output Shape              Param #   \n",
            "=================================================================\n",
            "Conv_1 (Conv2D)              (None, 32, 32, 16)        160       \n",
            "_________________________________________________________________\n",
            "Pool_1 (MaxPooling2D)        (None, 16, 16, 16)        0         \n",
            "_________________________________________________________________\n",
            "Conv_2 (Conv2D)              (None, 16, 16, 32)        4640      \n",
            "_________________________________________________________________\n",
            "Pool_2 (MaxPooling2D)        (None, 8, 8, 32)          0         \n",
            "_________________________________________________________________\n",
            "Conv_3 (Conv2D)              (None, 8, 8, 64)          18496     \n",
            "_________________________________________________________________\n",
            "Batch_Normalization (BatchNo (None, 8, 8, 64)          256       \n",
            "_________________________________________________________________\n",
            "Pool_3 (MaxPooling2D)        (None, 4, 4, 64)          0         \n",
            "_________________________________________________________________\n",
            "Flatten (Flatten)            (None, 1024)              0         \n",
            "_________________________________________________________________\n",
            "Dense_1 (Dense)              (None, 256)               262400    \n",
            "_________________________________________________________________\n",
            "Dense_2 (Dense)              (None, 256)               65792     \n",
            "_________________________________________________________________\n",
            "Dropout (Dropout)            (None, 256)               0         \n",
            "_________________________________________________________________\n",
            "Dense_3 (Dense)              (None, 10)                2570      \n",
            "=================================================================\n",
            "Total params: 354,314\n",
            "Trainable params: 354,186\n",
            "Non-trainable params: 128\n",
            "_________________________________________________________________\n"
          ],
          "name": "stdout"
        }
      ]
    },
    {
      "cell_type": "code",
      "metadata": {
        "id": "VytQECDVz_Gv"
      },
      "source": [
        "def get_checkpoint_cnn_every_epoch():\n",
        "       \n",
        "    checkpoint_path = '/content/gdrive/MyDrive/Colab_Notebooks/Capstone_Project/checkpoints_cnn_every_epoch/checkpoint_{epoch:02d}'\n",
        "    checkpoint = ModelCheckpoint(filepath = checkpoint_path,\n",
        "                             frequency = 'epoch',\n",
        "                            save_weights_only = True,\n",
        "                            verbose = 1)\n",
        "\n",
        "    return checkpoint "
      ],
      "execution_count": null,
      "outputs": []
    },
    {
      "cell_type": "code",
      "metadata": {
        "id": "60mJypwQz_Gx"
      },
      "source": [
        "def get_checkpoint_cnn_best_only():\n",
        "    \n",
        "    checkpoint_path = '/content/gdrive/MyDrive/Colab_Notebooks/Capstone_Project/checkpoints_cnn_best_only/checkpoint'\n",
        "    checkpoint = ModelCheckpoint(filepath = checkpoint_path,\n",
        "                                frequency = 'epoch',\n",
        "                                 monitor = 'val_acc',\n",
        "                                 save_best_only = True,\n",
        "                                 save_weights_only = True,\n",
        "                                verbose = 1)\n",
        "    return checkpoint"
      ],
      "execution_count": null,
      "outputs": []
    },
    {
      "cell_type": "code",
      "metadata": {
        "id": "w2v80qosz_G0"
      },
      "source": [
        "#Create checkpoints\n",
        "checkpoint_cnn_every_epoch = get_checkpoint_cnn_every_epoch()\n",
        "checkpoint_cnn_best_only = get_checkpoint_cnn_best_only()\n",
        "early_stopping = get_early_stopping()\n",
        "callbacks = [checkpoint_cnn_every_epoch, checkpoint_cnn_best_only, early_stopping]"
      ],
      "execution_count": null,
      "outputs": []
    },
    {
      "cell_type": "code",
      "metadata": {
        "id": "7lp9L9yQrsLY"
      },
      "source": [
        "# Initialize the number of epochs and batch size for Data Augmentation\n",
        "EPOCHS = 100\n",
        "BS = 10000\n",
        "# construct the training image generator for data augmentation\n",
        "aug = ImageDataGenerator(rotation_range=20, zoom_range=0.15, shear_range=0.1, fill_mode=\"nearest\")"
      ],
      "execution_count": null,
      "outputs": []
    },
    {
      "cell_type": "code",
      "metadata": {
        "colab": {
          "base_uri": "https://localhost:8080/"
        },
        "id": "Leq2Z49ws7g1",
        "outputId": "70b1582a-7cf2-40b3-f6c6-a0eb6da4ecd6"
      },
      "source": [
        "# Train the network with Data Augmentation\n",
        "history_cnn = cnn_model.fit(aug.flow(x_trainv, y_trainv, batch_size=BS),\n",
        "\tvalidation_data=(x_validation, y_validation),verbose=1, steps_per_epoch=len(x_trainv) // BS,\n",
        "\tepochs=EPOCHS, callbacks = callbacks)"
      ],
      "execution_count": null,
      "outputs": [
        {
          "output_type": "stream",
          "text": [
            "Epoch 1/100\n",
            "6/6 [==============================] - 45s 2s/step - loss: 2.3542 - acc: 0.1382 - precision: 0.1716 - recall: 0.0014 - auc: 0.5416 - val_loss: 2.2934 - val_acc: 0.1886 - val_precision: 0.0000e+00 - val_recall: 0.0000e+00 - val_auc: 0.5856\n",
            "\n",
            "Epoch 00001: saving model to /content/gdrive/MyDrive/Colab_Notebooks/Capstone_Project/checkpoints_cnn_every_epoch/checkpoint_01\n",
            "\n",
            "Epoch 00001: val_acc improved from -inf to 0.18855, saving model to /content/gdrive/MyDrive/Colab_Notebooks/Capstone_Project/checkpoints_cnn_best_only/checkpoint\n",
            "Epoch 2/100\n",
            "6/6 [==============================] - 12s 2s/step - loss: 2.2094 - acc: 0.2004 - precision: 0.5367 - recall: 1.3000e-04 - auc: 0.6297 - val_loss: 2.2837 - val_acc: 0.2068 - val_precision: 0.0000e+00 - val_recall: 0.0000e+00 - val_auc: 0.6359\n",
            "\n",
            "Epoch 00002: saving model to /content/gdrive/MyDrive/Colab_Notebooks/Capstone_Project/checkpoints_cnn_every_epoch/checkpoint_02\n",
            "\n",
            "Epoch 00002: val_acc improved from 0.18855 to 0.20675, saving model to /content/gdrive/MyDrive/Colab_Notebooks/Capstone_Project/checkpoints_cnn_best_only/checkpoint\n",
            "Epoch 3/100\n",
            "6/6 [==============================] - 12s 2s/step - loss: 2.1151 - acc: 0.2431 - precision: 0.7560 - recall: 0.0135 - auc: 0.6790 - val_loss: 2.2745 - val_acc: 0.1873 - val_precision: 0.0000e+00 - val_recall: 0.0000e+00 - val_auc: 0.6631\n",
            "\n",
            "Epoch 00003: saving model to /content/gdrive/MyDrive/Colab_Notebooks/Capstone_Project/checkpoints_cnn_every_epoch/checkpoint_03\n",
            "\n",
            "Epoch 00003: val_acc did not improve from 0.20675\n",
            "Epoch 4/100\n",
            "6/6 [==============================] - 12s 2s/step - loss: 1.9217 - acc: 0.3419 - precision: 0.7667 - recall: 0.0660 - auc: 0.7603 - val_loss: 2.2580 - val_acc: 0.2832 - val_precision: 0.0000e+00 - val_recall: 0.0000e+00 - val_auc: 0.7081\n",
            "\n",
            "Epoch 00004: saving model to /content/gdrive/MyDrive/Colab_Notebooks/Capstone_Project/checkpoints_cnn_every_epoch/checkpoint_04\n",
            "\n",
            "Epoch 00004: val_acc improved from 0.20675 to 0.28319, saving model to /content/gdrive/MyDrive/Colab_Notebooks/Capstone_Project/checkpoints_cnn_best_only/checkpoint\n",
            "Epoch 5/100\n",
            "6/6 [==============================] - 12s 2s/step - loss: 1.6710 - acc: 0.4356 - precision: 0.7762 - recall: 0.1560 - auc: 0.8323 - val_loss: 2.2180 - val_acc: 0.4615 - val_precision: 0.0000e+00 - val_recall: 0.0000e+00 - val_auc: 0.8159\n",
            "\n",
            "Epoch 00005: saving model to /content/gdrive/MyDrive/Colab_Notebooks/Capstone_Project/checkpoints_cnn_every_epoch/checkpoint_05\n",
            "\n",
            "Epoch 00005: val_acc improved from 0.28319 to 0.46146, saving model to /content/gdrive/MyDrive/Colab_Notebooks/Capstone_Project/checkpoints_cnn_best_only/checkpoint\n",
            "Epoch 6/100\n",
            "6/6 [==============================] - 12s 2s/step - loss: 1.4157 - acc: 0.5227 - precision: 0.7931 - recall: 0.2836 - auc: 0.8839 - val_loss: 2.1697 - val_acc: 0.6156 - val_precision: 0.0000e+00 - val_recall: 0.0000e+00 - val_auc: 0.8833\n",
            "\n",
            "Epoch 00006: saving model to /content/gdrive/MyDrive/Colab_Notebooks/Capstone_Project/checkpoints_cnn_every_epoch/checkpoint_06\n",
            "\n",
            "Epoch 00006: val_acc improved from 0.46146 to 0.61562, saving model to /content/gdrive/MyDrive/Colab_Notebooks/Capstone_Project/checkpoints_cnn_best_only/checkpoint\n",
            "Epoch 7/100\n",
            "6/6 [==============================] - 12s 2s/step - loss: 1.2274 - acc: 0.5940 - precision: 0.8053 - recall: 0.3935 - auc: 0.9133 - val_loss: 2.1491 - val_acc: 0.6323 - val_precision: 0.0000e+00 - val_recall: 0.0000e+00 - val_auc: 0.8886\n",
            "\n",
            "Epoch 00007: saving model to /content/gdrive/MyDrive/Colab_Notebooks/Capstone_Project/checkpoints_cnn_every_epoch/checkpoint_07\n",
            "\n",
            "Epoch 00007: val_acc improved from 0.61562 to 0.63227, saving model to /content/gdrive/MyDrive/Colab_Notebooks/Capstone_Project/checkpoints_cnn_best_only/checkpoint\n",
            "Epoch 8/100\n",
            "6/6 [==============================] - 12s 2s/step - loss: 1.0882 - acc: 0.6462 - precision: 0.8252 - recall: 0.4691 - auc: 0.9320 - val_loss: 2.1067 - val_acc: 0.6689 - val_precision: 0.0000e+00 - val_recall: 0.0000e+00 - val_auc: 0.9084\n",
            "\n",
            "Epoch 00008: saving model to /content/gdrive/MyDrive/Colab_Notebooks/Capstone_Project/checkpoints_cnn_every_epoch/checkpoint_08\n",
            "\n",
            "Epoch 00008: val_acc improved from 0.63227 to 0.66885, saving model to /content/gdrive/MyDrive/Colab_Notebooks/Capstone_Project/checkpoints_cnn_best_only/checkpoint\n",
            "Epoch 9/100\n",
            "6/6 [==============================] - 12s 2s/step - loss: 0.9775 - acc: 0.6808 - precision: 0.8349 - recall: 0.5380 - auc: 0.9448 - val_loss: 2.0850 - val_acc: 0.7141 - val_precision: 0.0000e+00 - val_recall: 0.0000e+00 - val_auc: 0.9201\n",
            "\n",
            "Epoch 00009: saving model to /content/gdrive/MyDrive/Colab_Notebooks/Capstone_Project/checkpoints_cnn_every_epoch/checkpoint_09\n",
            "\n",
            "Epoch 00009: val_acc improved from 0.66885 to 0.71408, saving model to /content/gdrive/MyDrive/Colab_Notebooks/Capstone_Project/checkpoints_cnn_best_only/checkpoint\n",
            "Epoch 10/100\n",
            "6/6 [==============================] - 12s 2s/step - loss: 0.8914 - acc: 0.7149 - precision: 0.8479 - recall: 0.5881 - auc: 0.9534 - val_loss: 2.0698 - val_acc: 0.6724 - val_precision: 0.0000e+00 - val_recall: 0.0000e+00 - val_auc: 0.9102\n",
            "\n",
            "Epoch 00010: saving model to /content/gdrive/MyDrive/Colab_Notebooks/Capstone_Project/checkpoints_cnn_every_epoch/checkpoint_10\n",
            "\n",
            "Epoch 00010: val_acc did not improve from 0.71408\n",
            "Epoch 11/100\n",
            "6/6 [==============================] - 12s 2s/step - loss: 0.8200 - acc: 0.7352 - precision: 0.8549 - recall: 0.6227 - auc: 0.9603 - val_loss: 2.0430 - val_acc: 0.7113 - val_precision: 0.0000e+00 - val_recall: 0.0000e+00 - val_auc: 0.9180\n",
            "\n",
            "Epoch 00011: saving model to /content/gdrive/MyDrive/Colab_Notebooks/Capstone_Project/checkpoints_cnn_every_epoch/checkpoint_11\n",
            "\n",
            "Epoch 00011: val_acc did not improve from 0.71408\n",
            "Epoch 12/100\n",
            "6/6 [==============================] - 12s 2s/step - loss: 0.7755 - acc: 0.7528 - precision: 0.8637 - recall: 0.6533 - auc: 0.9643 - val_loss: 2.0111 - val_acc: 0.7509 - val_precision: 0.0000e+00 - val_recall: 0.0000e+00 - val_auc: 0.9347\n",
            "\n",
            "Epoch 00012: saving model to /content/gdrive/MyDrive/Colab_Notebooks/Capstone_Project/checkpoints_cnn_every_epoch/checkpoint_12\n",
            "\n",
            "Epoch 00012: val_acc improved from 0.71408 to 0.75093, saving model to /content/gdrive/MyDrive/Colab_Notebooks/Capstone_Project/checkpoints_cnn_best_only/checkpoint\n",
            "Epoch 13/100\n",
            "6/6 [==============================] - 12s 2s/step - loss: 0.7301 - acc: 0.7727 - precision: 0.8756 - recall: 0.6794 - auc: 0.9676 - val_loss: 1.9817 - val_acc: 0.7597 - val_precision: 0.0000e+00 - val_recall: 0.0000e+00 - val_auc: 0.9372\n",
            "\n",
            "Epoch 00013: saving model to /content/gdrive/MyDrive/Colab_Notebooks/Capstone_Project/checkpoints_cnn_every_epoch/checkpoint_13\n",
            "\n",
            "Epoch 00013: val_acc improved from 0.75093 to 0.75967, saving model to /content/gdrive/MyDrive/Colab_Notebooks/Capstone_Project/checkpoints_cnn_best_only/checkpoint\n",
            "Epoch 14/100\n",
            "6/6 [==============================] - 12s 2s/step - loss: 0.6917 - acc: 0.7842 - precision: 0.8783 - recall: 0.7021 - auc: 0.9706 - val_loss: 1.9554 - val_acc: 0.7738 - val_precision: 0.0000e+00 - val_recall: 0.0000e+00 - val_auc: 0.9413\n",
            "\n",
            "Epoch 00014: saving model to /content/gdrive/MyDrive/Colab_Notebooks/Capstone_Project/checkpoints_cnn_every_epoch/checkpoint_14\n",
            "\n",
            "Epoch 00014: val_acc improved from 0.75967 to 0.77377, saving model to /content/gdrive/MyDrive/Colab_Notebooks/Capstone_Project/checkpoints_cnn_best_only/checkpoint\n",
            "Epoch 15/100\n",
            "6/6 [==============================] - 12s 2s/step - loss: 0.6670 - acc: 0.7931 - precision: 0.8799 - recall: 0.7175 - auc: 0.9723 - val_loss: 1.9182 - val_acc: 0.8028 - val_precision: 0.0000e+00 - val_recall: 0.0000e+00 - val_auc: 0.9509\n",
            "\n",
            "Epoch 00015: saving model to /content/gdrive/MyDrive/Colab_Notebooks/Capstone_Project/checkpoints_cnn_every_epoch/checkpoint_15\n",
            "\n",
            "Epoch 00015: val_acc improved from 0.77377 to 0.80280, saving model to /content/gdrive/MyDrive/Colab_Notebooks/Capstone_Project/checkpoints_cnn_best_only/checkpoint\n",
            "Epoch 16/100\n",
            "6/6 [==============================] - 12s 2s/step - loss: 0.6453 - acc: 0.7986 - precision: 0.8835 - recall: 0.7277 - auc: 0.9741 - val_loss: 1.9081 - val_acc: 0.8009 - val_precision: 0.0000e+00 - val_recall: 0.0000e+00 - val_auc: 0.9529\n",
            "\n",
            "Epoch 00016: saving model to /content/gdrive/MyDrive/Colab_Notebooks/Capstone_Project/checkpoints_cnn_every_epoch/checkpoint_16\n",
            "\n",
            "Epoch 00016: val_acc did not improve from 0.80280\n",
            "Epoch 17/100\n",
            "6/6 [==============================] - 12s 2s/step - loss: 0.6238 - acc: 0.8071 - precision: 0.8893 - recall: 0.7405 - auc: 0.9753 - val_loss: 1.8776 - val_acc: 0.8210 - val_precision: 0.0000e+00 - val_recall: 0.0000e+00 - val_auc: 0.9581\n",
            "\n",
            "Epoch 00017: saving model to /content/gdrive/MyDrive/Colab_Notebooks/Capstone_Project/checkpoints_cnn_every_epoch/checkpoint_17\n",
            "\n",
            "Epoch 00017: val_acc improved from 0.80280 to 0.82100, saving model to /content/gdrive/MyDrive/Colab_Notebooks/Capstone_Project/checkpoints_cnn_best_only/checkpoint\n",
            "Epoch 18/100\n",
            "6/6 [==============================] - 12s 2s/step - loss: 0.6027 - acc: 0.8133 - precision: 0.8912 - recall: 0.7486 - auc: 0.9769 - val_loss: 1.8821 - val_acc: 0.7914 - val_precision: 0.0000e+00 - val_recall: 0.0000e+00 - val_auc: 0.9509\n",
            "\n",
            "Epoch 00018: saving model to /content/gdrive/MyDrive/Colab_Notebooks/Capstone_Project/checkpoints_cnn_every_epoch/checkpoint_18\n",
            "\n",
            "Epoch 00018: val_acc did not improve from 0.82100\n",
            "Epoch 19/100\n",
            "6/6 [==============================] - 12s 2s/step - loss: 0.5825 - acc: 0.8187 - precision: 0.8985 - recall: 0.7523 - auc: 0.9788 - val_loss: 1.8256 - val_acc: 0.8305 - val_precision: 0.0000e+00 - val_recall: 0.0000e+00 - val_auc: 0.9596\n",
            "\n",
            "Epoch 00019: saving model to /content/gdrive/MyDrive/Colab_Notebooks/Capstone_Project/checkpoints_cnn_every_epoch/checkpoint_19\n",
            "\n",
            "Epoch 00019: val_acc improved from 0.82100 to 0.83047, saving model to /content/gdrive/MyDrive/Colab_Notebooks/Capstone_Project/checkpoints_cnn_best_only/checkpoint\n",
            "Epoch 20/100\n",
            "6/6 [==============================] - 12s 2s/step - loss: 0.5712 - acc: 0.8243 - precision: 0.8975 - recall: 0.7656 - auc: 0.9791 - val_loss: 1.8114 - val_acc: 0.8254 - val_precision: 0.0000e+00 - val_recall: 0.0000e+00 - val_auc: 0.9623\n",
            "\n",
            "Epoch 00020: saving model to /content/gdrive/MyDrive/Colab_Notebooks/Capstone_Project/checkpoints_cnn_every_epoch/checkpoint_20\n",
            "\n",
            "Epoch 00020: val_acc did not improve from 0.83047\n",
            "Epoch 21/100\n",
            "6/6 [==============================] - 12s 2s/step - loss: 0.5482 - acc: 0.8324 - precision: 0.9009 - recall: 0.7741 - auc: 0.9804 - val_loss: 1.7692 - val_acc: 0.8296 - val_precision: 0.0000e+00 - val_recall: 0.0000e+00 - val_auc: 0.9627\n",
            "\n",
            "Epoch 00021: saving model to /content/gdrive/MyDrive/Colab_Notebooks/Capstone_Project/checkpoints_cnn_every_epoch/checkpoint_21\n",
            "\n",
            "Epoch 00021: val_acc did not improve from 0.83047\n",
            "Epoch 22/100\n",
            "6/6 [==============================] - 12s 2s/step - loss: 0.5431 - acc: 0.8309 - precision: 0.9004 - recall: 0.7778 - auc: 0.9810 - val_loss: 1.7607 - val_acc: 0.8372 - val_precision: 0.0000e+00 - val_recall: 0.0000e+00 - val_auc: 0.9637\n",
            "\n",
            "Epoch 00022: saving model to /content/gdrive/MyDrive/Colab_Notebooks/Capstone_Project/checkpoints_cnn_every_epoch/checkpoint_22\n",
            "\n",
            "Epoch 00022: val_acc improved from 0.83047 to 0.83720, saving model to /content/gdrive/MyDrive/Colab_Notebooks/Capstone_Project/checkpoints_cnn_best_only/checkpoint\n",
            "Epoch 23/100\n",
            "6/6 [==============================] - 12s 2s/step - loss: 0.5256 - acc: 0.8377 - precision: 0.9039 - recall: 0.7830 - auc: 0.9822 - val_loss: 1.7349 - val_acc: 0.8460 - val_precision: 1.0000 - val_recall: 1.8200e-04 - val_auc: 0.9693\n",
            "\n",
            "Epoch 00023: saving model to /content/gdrive/MyDrive/Colab_Notebooks/Capstone_Project/checkpoints_cnn_every_epoch/checkpoint_23\n",
            "\n",
            "Epoch 00023: val_acc improved from 0.83720 to 0.84603, saving model to /content/gdrive/MyDrive/Colab_Notebooks/Capstone_Project/checkpoints_cnn_best_only/checkpoint\n",
            "Epoch 24/100\n",
            "6/6 [==============================] - 12s 2s/step - loss: 0.5202 - acc: 0.8405 - precision: 0.9063 - recall: 0.7865 - auc: 0.9823 - val_loss: 1.7078 - val_acc: 0.8377 - val_precision: 1.0000 - val_recall: 4.5500e-04 - val_auc: 0.9676\n",
            "\n",
            "Epoch 00024: saving model to /content/gdrive/MyDrive/Colab_Notebooks/Capstone_Project/checkpoints_cnn_every_epoch/checkpoint_24\n",
            "\n",
            "Epoch 00024: val_acc did not improve from 0.84603\n",
            "Epoch 25/100\n",
            "6/6 [==============================] - 12s 2s/step - loss: 0.5034 - acc: 0.8469 - precision: 0.9101 - recall: 0.7957 - auc: 0.9831 - val_loss: 1.6951 - val_acc: 0.8504 - val_precision: 1.0000 - val_recall: 0.0011 - val_auc: 0.9679\n",
            "\n",
            "Epoch 00025: saving model to /content/gdrive/MyDrive/Colab_Notebooks/Capstone_Project/checkpoints_cnn_every_epoch/checkpoint_25\n",
            "\n",
            "Epoch 00025: val_acc improved from 0.84603 to 0.85040, saving model to /content/gdrive/MyDrive/Colab_Notebooks/Capstone_Project/checkpoints_cnn_best_only/checkpoint\n",
            "Epoch 26/100\n",
            "6/6 [==============================] - 12s 2s/step - loss: 0.4921 - acc: 0.8491 - precision: 0.9090 - recall: 0.7982 - auc: 0.9839 - val_loss: 1.6832 - val_acc: 0.8434 - val_precision: 1.0000 - val_recall: 9.1000e-04 - val_auc: 0.9663\n",
            "\n",
            "Epoch 00026: saving model to /content/gdrive/MyDrive/Colab_Notebooks/Capstone_Project/checkpoints_cnn_every_epoch/checkpoint_26\n",
            "\n",
            "Epoch 00026: val_acc did not improve from 0.85040\n",
            "Epoch 27/100\n",
            "6/6 [==============================] - 12s 2s/step - loss: 0.4840 - acc: 0.8507 - precision: 0.9140 - recall: 0.8026 - auc: 0.9845 - val_loss: 1.6494 - val_acc: 0.8512 - val_precision: 1.0000 - val_recall: 0.0025 - val_auc: 0.9691\n",
            "\n",
            "Epoch 00027: saving model to /content/gdrive/MyDrive/Colab_Notebooks/Capstone_Project/checkpoints_cnn_every_epoch/checkpoint_27\n",
            "\n",
            "Epoch 00027: val_acc improved from 0.85040 to 0.85121, saving model to /content/gdrive/MyDrive/Colab_Notebooks/Capstone_Project/checkpoints_cnn_best_only/checkpoint\n",
            "Epoch 28/100\n",
            "6/6 [==============================] - 12s 2s/step - loss: 0.4736 - acc: 0.8540 - precision: 0.9143 - recall: 0.8040 - auc: 0.9853 - val_loss: 1.6211 - val_acc: 0.8413 - val_precision: 1.0000 - val_recall: 0.0044 - val_auc: 0.9678\n",
            "\n",
            "Epoch 00028: saving model to /content/gdrive/MyDrive/Colab_Notebooks/Capstone_Project/checkpoints_cnn_every_epoch/checkpoint_28\n",
            "\n",
            "Epoch 00028: val_acc did not improve from 0.85121\n",
            "Epoch 29/100\n",
            "6/6 [==============================] - 12s 2s/step - loss: 0.4637 - acc: 0.8577 - precision: 0.9147 - recall: 0.8111 - auc: 0.9856 - val_loss: 1.5827 - val_acc: 0.8572 - val_precision: 1.0000 - val_recall: 0.0046 - val_auc: 0.9734\n",
            "\n",
            "Epoch 00029: saving model to /content/gdrive/MyDrive/Colab_Notebooks/Capstone_Project/checkpoints_cnn_every_epoch/checkpoint_29\n",
            "\n",
            "Epoch 00029: val_acc improved from 0.85121 to 0.85722, saving model to /content/gdrive/MyDrive/Colab_Notebooks/Capstone_Project/checkpoints_cnn_best_only/checkpoint\n",
            "Epoch 30/100\n",
            "6/6 [==============================] - 12s 2s/step - loss: 0.4661 - acc: 0.8573 - precision: 0.9168 - recall: 0.8125 - auc: 0.9853 - val_loss: 1.6018 - val_acc: 0.8411 - val_precision: 1.0000 - val_recall: 0.0063 - val_auc: 0.9685\n",
            "\n",
            "Epoch 00030: saving model to /content/gdrive/MyDrive/Colab_Notebooks/Capstone_Project/checkpoints_cnn_every_epoch/checkpoint_30\n",
            "\n",
            "Epoch 00030: val_acc did not improve from 0.85722\n",
            "Epoch 31/100\n",
            "6/6 [==============================] - 12s 2s/step - loss: 0.4467 - acc: 0.8633 - precision: 0.9195 - recall: 0.8179 - auc: 0.9868 - val_loss: 1.5542 - val_acc: 0.8539 - val_precision: 1.0000 - val_recall: 0.0110 - val_auc: 0.9718\n",
            "\n",
            "Epoch 00031: saving model to /content/gdrive/MyDrive/Colab_Notebooks/Capstone_Project/checkpoints_cnn_every_epoch/checkpoint_31\n",
            "\n",
            "Epoch 00031: val_acc did not improve from 0.85722\n",
            "Epoch 32/100\n",
            "6/6 [==============================] - 12s 2s/step - loss: 0.4392 - acc: 0.8668 - precision: 0.9199 - recall: 0.8226 - auc: 0.9870 - val_loss: 1.5322 - val_acc: 0.8771 - val_precision: 1.0000 - val_recall: 0.0118 - val_auc: 0.9768\n",
            "\n",
            "Epoch 00032: saving model to /content/gdrive/MyDrive/Colab_Notebooks/Capstone_Project/checkpoints_cnn_every_epoch/checkpoint_32\n",
            "\n",
            "Epoch 00032: val_acc improved from 0.85722 to 0.87706, saving model to /content/gdrive/MyDrive/Colab_Notebooks/Capstone_Project/checkpoints_cnn_best_only/checkpoint\n",
            "Epoch 33/100\n",
            "6/6 [==============================] - 12s 2s/step - loss: 0.4412 - acc: 0.8642 - precision: 0.9202 - recall: 0.8204 - auc: 0.9869 - val_loss: 1.4961 - val_acc: 0.8765 - val_precision: 1.0000 - val_recall: 0.0145 - val_auc: 0.9784\n",
            "\n",
            "Epoch 00033: saving model to /content/gdrive/MyDrive/Colab_Notebooks/Capstone_Project/checkpoints_cnn_every_epoch/checkpoint_33\n",
            "\n",
            "Epoch 00033: val_acc did not improve from 0.87706\n",
            "Epoch 34/100\n",
            "6/6 [==============================] - 12s 2s/step - loss: 0.4258 - acc: 0.8696 - precision: 0.9223 - recall: 0.8280 - auc: 0.9876 - val_loss: 1.4701 - val_acc: 0.8770 - val_precision: 1.0000 - val_recall: 0.0226 - val_auc: 0.9782\n",
            "\n",
            "Epoch 00034: saving model to /content/gdrive/MyDrive/Colab_Notebooks/Capstone_Project/checkpoints_cnn_every_epoch/checkpoint_34\n",
            "\n",
            "Epoch 00034: val_acc did not improve from 0.87706\n",
            "Epoch 35/100\n",
            "6/6 [==============================] - 12s 2s/step - loss: 0.4211 - acc: 0.8708 - precision: 0.9232 - recall: 0.8301 - auc: 0.9877 - val_loss: 1.4604 - val_acc: 0.8755 - val_precision: 1.0000 - val_recall: 0.0258 - val_auc: 0.9784\n",
            "\n",
            "Epoch 00035: saving model to /content/gdrive/MyDrive/Colab_Notebooks/Capstone_Project/checkpoints_cnn_every_epoch/checkpoint_35\n",
            "\n",
            "Epoch 00035: val_acc did not improve from 0.87706\n",
            "Epoch 36/100\n",
            "6/6 [==============================] - 12s 2s/step - loss: 0.4189 - acc: 0.8712 - precision: 0.9232 - recall: 0.8294 - auc: 0.9881 - val_loss: 1.4091 - val_acc: 0.8716 - val_precision: 1.0000 - val_recall: 0.0380 - val_auc: 0.9790\n",
            "\n",
            "Epoch 00036: saving model to /content/gdrive/MyDrive/Colab_Notebooks/Capstone_Project/checkpoints_cnn_every_epoch/checkpoint_36\n",
            "\n",
            "Epoch 00036: val_acc did not improve from 0.87706\n",
            "Epoch 37/100\n",
            "6/6 [==============================] - 12s 2s/step - loss: 0.4142 - acc: 0.8743 - precision: 0.9236 - recall: 0.8357 - auc: 0.9879 - val_loss: 1.3980 - val_acc: 0.8770 - val_precision: 1.0000 - val_recall: 0.0382 - val_auc: 0.9802\n",
            "\n",
            "Epoch 00037: saving model to /content/gdrive/MyDrive/Colab_Notebooks/Capstone_Project/checkpoints_cnn_every_epoch/checkpoint_37\n",
            "\n",
            "Epoch 00037: val_acc did not improve from 0.87706\n",
            "Epoch 38/100\n",
            "6/6 [==============================] - 12s 2s/step - loss: 0.4036 - acc: 0.8776 - precision: 0.9270 - recall: 0.8381 - auc: 0.9886 - val_loss: 1.3757 - val_acc: 0.8811 - val_precision: 1.0000 - val_recall: 0.0482 - val_auc: 0.9806\n",
            "\n",
            "Epoch 00038: saving model to /content/gdrive/MyDrive/Colab_Notebooks/Capstone_Project/checkpoints_cnn_every_epoch/checkpoint_38\n",
            "\n",
            "Epoch 00038: val_acc improved from 0.87706 to 0.88106, saving model to /content/gdrive/MyDrive/Colab_Notebooks/Capstone_Project/checkpoints_cnn_best_only/checkpoint\n",
            "Epoch 39/100\n",
            "6/6 [==============================] - 12s 2s/step - loss: 0.3995 - acc: 0.8788 - precision: 0.9267 - recall: 0.8387 - auc: 0.9887 - val_loss: 1.3534 - val_acc: 0.8810 - val_precision: 1.0000 - val_recall: 0.0611 - val_auc: 0.9808\n",
            "\n",
            "Epoch 00039: saving model to /content/gdrive/MyDrive/Colab_Notebooks/Capstone_Project/checkpoints_cnn_every_epoch/checkpoint_39\n",
            "\n",
            "Epoch 00039: val_acc did not improve from 0.88106\n",
            "Epoch 40/100\n",
            "6/6 [==============================] - 12s 2s/step - loss: 0.3811 - acc: 0.8837 - precision: 0.9291 - recall: 0.8477 - auc: 0.9898 - val_loss: 1.3194 - val_acc: 0.8909 - val_precision: 0.9975 - val_recall: 0.0740 - val_auc: 0.9832\n",
            "\n",
            "Epoch 00040: saving model to /content/gdrive/MyDrive/Colab_Notebooks/Capstone_Project/checkpoints_cnn_every_epoch/checkpoint_40\n",
            "\n",
            "Epoch 00040: val_acc improved from 0.88106 to 0.89089, saving model to /content/gdrive/MyDrive/Colab_Notebooks/Capstone_Project/checkpoints_cnn_best_only/checkpoint\n",
            "Epoch 41/100\n",
            "6/6 [==============================] - 12s 2s/step - loss: 0.3820 - acc: 0.8840 - precision: 0.9301 - recall: 0.8464 - auc: 0.9896 - val_loss: 1.2864 - val_acc: 0.8877 - val_precision: 0.9972 - val_recall: 0.0983 - val_auc: 0.9830\n",
            "\n",
            "Epoch 00041: saving model to /content/gdrive/MyDrive/Colab_Notebooks/Capstone_Project/checkpoints_cnn_every_epoch/checkpoint_41\n",
            "\n",
            "Epoch 00041: val_acc did not improve from 0.89089\n",
            "Epoch 42/100\n",
            "6/6 [==============================] - 12s 2s/step - loss: 0.3849 - acc: 0.8820 - precision: 0.9273 - recall: 0.8469 - auc: 0.9893 - val_loss: 1.2668 - val_acc: 0.8974 - val_precision: 0.9973 - val_recall: 0.1016 - val_auc: 0.9846\n",
            "\n",
            "Epoch 00042: saving model to /content/gdrive/MyDrive/Colab_Notebooks/Capstone_Project/checkpoints_cnn_every_epoch/checkpoint_42\n",
            "\n",
            "Epoch 00042: val_acc improved from 0.89089 to 0.89744, saving model to /content/gdrive/MyDrive/Colab_Notebooks/Capstone_Project/checkpoints_cnn_best_only/checkpoint\n",
            "Epoch 43/100\n",
            "6/6 [==============================] - 12s 2s/step - loss: 0.3737 - acc: 0.8859 - precision: 0.9308 - recall: 0.8516 - auc: 0.9900 - val_loss: 1.2497 - val_acc: 0.8897 - val_precision: 0.9978 - val_recall: 0.1259 - val_auc: 0.9832\n",
            "\n",
            "Epoch 00043: saving model to /content/gdrive/MyDrive/Colab_Notebooks/Capstone_Project/checkpoints_cnn_every_epoch/checkpoint_43\n",
            "\n",
            "Epoch 00043: val_acc did not improve from 0.89744\n",
            "Epoch 44/100\n",
            "6/6 [==============================] - 12s 2s/step - loss: 0.3665 - acc: 0.8878 - precision: 0.9325 - recall: 0.8515 - auc: 0.9905 - val_loss: 1.1818 - val_acc: 0.9013 - val_precision: 0.9971 - val_recall: 0.1551 - val_auc: 0.9864\n",
            "\n",
            "Epoch 00044: saving model to /content/gdrive/MyDrive/Colab_Notebooks/Capstone_Project/checkpoints_cnn_every_epoch/checkpoint_44\n",
            "\n",
            "Epoch 00044: val_acc improved from 0.89744 to 0.90126, saving model to /content/gdrive/MyDrive/Colab_Notebooks/Capstone_Project/checkpoints_cnn_best_only/checkpoint\n",
            "Epoch 45/100\n",
            "6/6 [==============================] - 12s 2s/step - loss: 0.3683 - acc: 0.8883 - precision: 0.9324 - recall: 0.8553 - auc: 0.9901 - val_loss: 1.2158 - val_acc: 0.8861 - val_precision: 0.9980 - val_recall: 0.1380 - val_auc: 0.9841\n",
            "\n",
            "Epoch 00045: saving model to /content/gdrive/MyDrive/Colab_Notebooks/Capstone_Project/checkpoints_cnn_every_epoch/checkpoint_45\n",
            "\n",
            "Epoch 00045: val_acc did not improve from 0.90126\n",
            "Epoch 46/100\n",
            "6/6 [==============================] - 12s 2s/step - loss: 0.3681 - acc: 0.8883 - precision: 0.9319 - recall: 0.8533 - auc: 0.9902 - val_loss: 1.1392 - val_acc: 0.8953 - val_precision: 0.9962 - val_recall: 0.1919 - val_auc: 0.9859\n",
            "\n",
            "Epoch 00046: saving model to /content/gdrive/MyDrive/Colab_Notebooks/Capstone_Project/checkpoints_cnn_every_epoch/checkpoint_46\n",
            "\n",
            "Epoch 00046: val_acc did not improve from 0.90126\n",
            "Epoch 47/100\n",
            "6/6 [==============================] - 12s 2s/step - loss: 0.3683 - acc: 0.8890 - precision: 0.9326 - recall: 0.8524 - auc: 0.9902 - val_loss: 1.0925 - val_acc: 0.9016 - val_precision: 0.9964 - val_recall: 0.2264 - val_auc: 0.9875\n",
            "\n",
            "Epoch 00047: saving model to /content/gdrive/MyDrive/Colab_Notebooks/Capstone_Project/checkpoints_cnn_every_epoch/checkpoint_47\n",
            "\n",
            "Epoch 00047: val_acc improved from 0.90126 to 0.90163, saving model to /content/gdrive/MyDrive/Colab_Notebooks/Capstone_Project/checkpoints_cnn_best_only/checkpoint\n",
            "Epoch 48/100\n",
            "6/6 [==============================] - 12s 2s/step - loss: 0.3574 - acc: 0.8921 - precision: 0.9334 - recall: 0.8596 - auc: 0.9905 - val_loss: 1.0721 - val_acc: 0.9013 - val_precision: 0.9967 - val_recall: 0.2492 - val_auc: 0.9876\n",
            "\n",
            "Epoch 00048: saving model to /content/gdrive/MyDrive/Colab_Notebooks/Capstone_Project/checkpoints_cnn_every_epoch/checkpoint_48\n",
            "\n",
            "Epoch 00048: val_acc did not improve from 0.90163\n",
            "Epoch 49/100\n",
            "6/6 [==============================] - 12s 2s/step - loss: 0.3440 - acc: 0.8960 - precision: 0.9385 - recall: 0.8645 - auc: 0.9914 - val_loss: 1.0643 - val_acc: 0.9052 - val_precision: 0.9968 - val_recall: 0.2566 - val_auc: 0.9878\n",
            "\n",
            "Epoch 00049: saving model to /content/gdrive/MyDrive/Colab_Notebooks/Capstone_Project/checkpoints_cnn_every_epoch/checkpoint_49\n",
            "\n",
            "Epoch 00049: val_acc improved from 0.90163 to 0.90518, saving model to /content/gdrive/MyDrive/Colab_Notebooks/Capstone_Project/checkpoints_cnn_best_only/checkpoint\n",
            "Epoch 50/100\n",
            "6/6 [==============================] - 12s 2s/step - loss: 0.3438 - acc: 0.8951 - precision: 0.9358 - recall: 0.8632 - auc: 0.9912 - val_loss: 1.0645 - val_acc: 0.9025 - val_precision: 0.9969 - val_recall: 0.2643 - val_auc: 0.9881\n",
            "\n",
            "Epoch 00050: saving model to /content/gdrive/MyDrive/Colab_Notebooks/Capstone_Project/checkpoints_cnn_every_epoch/checkpoint_50\n",
            "\n",
            "Epoch 00050: val_acc did not improve from 0.90518\n",
            "Epoch 51/100\n",
            "6/6 [==============================] - 12s 2s/step - loss: 0.3475 - acc: 0.8945 - precision: 0.9359 - recall: 0.8616 - auc: 0.9913 - val_loss: 1.0210 - val_acc: 0.9058 - val_precision: 0.9964 - val_recall: 0.3050 - val_auc: 0.9883\n",
            "\n",
            "Epoch 00051: saving model to /content/gdrive/MyDrive/Colab_Notebooks/Capstone_Project/checkpoints_cnn_every_epoch/checkpoint_51\n",
            "\n",
            "Epoch 00051: val_acc improved from 0.90518 to 0.90581, saving model to /content/gdrive/MyDrive/Colab_Notebooks/Capstone_Project/checkpoints_cnn_best_only/checkpoint\n",
            "Epoch 52/100\n",
            "6/6 [==============================] - 12s 2s/step - loss: 0.3401 - acc: 0.8984 - precision: 0.9369 - recall: 0.8671 - auc: 0.9913 - val_loss: 1.0450 - val_acc: 0.9002 - val_precision: 0.9962 - val_recall: 0.2887 - val_auc: 0.9871\n",
            "\n",
            "Epoch 00052: saving model to /content/gdrive/MyDrive/Colab_Notebooks/Capstone_Project/checkpoints_cnn_every_epoch/checkpoint_52\n",
            "\n",
            "Epoch 00052: val_acc did not improve from 0.90581\n",
            "Epoch 53/100\n",
            "6/6 [==============================] - 12s 2s/step - loss: 0.3396 - acc: 0.8968 - precision: 0.9368 - recall: 0.8652 - auc: 0.9916 - val_loss: 0.9270 - val_acc: 0.9048 - val_precision: 0.9959 - val_recall: 0.3938 - val_auc: 0.9893\n",
            "\n",
            "Epoch 00053: saving model to /content/gdrive/MyDrive/Colab_Notebooks/Capstone_Project/checkpoints_cnn_every_epoch/checkpoint_53\n",
            "\n",
            "Epoch 00053: val_acc did not improve from 0.90581\n",
            "Epoch 54/100\n",
            "6/6 [==============================] - 12s 2s/step - loss: 0.3446 - acc: 0.8944 - precision: 0.9344 - recall: 0.8659 - auc: 0.9913 - val_loss: 0.9325 - val_acc: 0.9085 - val_precision: 0.9958 - val_recall: 0.3864 - val_auc: 0.9897\n",
            "\n",
            "Epoch 00054: saving model to /content/gdrive/MyDrive/Colab_Notebooks/Capstone_Project/checkpoints_cnn_every_epoch/checkpoint_54\n",
            "\n",
            "Epoch 00054: val_acc improved from 0.90581 to 0.90854, saving model to /content/gdrive/MyDrive/Colab_Notebooks/Capstone_Project/checkpoints_cnn_best_only/checkpoint\n",
            "Epoch 55/100\n",
            "6/6 [==============================] - 12s 2s/step - loss: 0.3309 - acc: 0.8983 - precision: 0.9363 - recall: 0.8686 - auc: 0.9917 - val_loss: 0.9299 - val_acc: 0.9034 - val_precision: 0.9961 - val_recall: 0.3909 - val_auc: 0.9891\n",
            "\n",
            "Epoch 00055: saving model to /content/gdrive/MyDrive/Colab_Notebooks/Capstone_Project/checkpoints_cnn_every_epoch/checkpoint_55\n",
            "\n",
            "Epoch 00055: val_acc did not improve from 0.90854\n",
            "Epoch 56/100\n",
            "6/6 [==============================] - 12s 2s/step - loss: 0.3191 - acc: 0.9029 - precision: 0.9417 - recall: 0.8720 - auc: 0.9926 - val_loss: 0.8890 - val_acc: 0.9091 - val_precision: 0.9960 - val_recall: 0.4264 - val_auc: 0.9900\n",
            "\n",
            "Epoch 00056: saving model to /content/gdrive/MyDrive/Colab_Notebooks/Capstone_Project/checkpoints_cnn_every_epoch/checkpoint_56\n",
            "\n",
            "Epoch 00056: val_acc improved from 0.90854 to 0.90909, saving model to /content/gdrive/MyDrive/Colab_Notebooks/Capstone_Project/checkpoints_cnn_best_only/checkpoint\n",
            "Epoch 57/100\n",
            "6/6 [==============================] - 12s 2s/step - loss: 0.3186 - acc: 0.9024 - precision: 0.9406 - recall: 0.8740 - auc: 0.9923 - val_loss: 0.8603 - val_acc: 0.9115 - val_precision: 0.9947 - val_recall: 0.4571 - val_auc: 0.9903\n",
            "\n",
            "Epoch 00057: saving model to /content/gdrive/MyDrive/Colab_Notebooks/Capstone_Project/checkpoints_cnn_every_epoch/checkpoint_57\n",
            "\n",
            "Epoch 00057: val_acc improved from 0.90909 to 0.91155, saving model to /content/gdrive/MyDrive/Colab_Notebooks/Capstone_Project/checkpoints_cnn_best_only/checkpoint\n",
            "Epoch 58/100\n",
            "6/6 [==============================] - 12s 2s/step - loss: 0.3200 - acc: 0.9019 - precision: 0.9393 - recall: 0.8741 - auc: 0.9923 - val_loss: 0.8689 - val_acc: 0.9091 - val_precision: 0.9966 - val_recall: 0.4494 - val_auc: 0.9904\n",
            "\n",
            "Epoch 00058: saving model to /content/gdrive/MyDrive/Colab_Notebooks/Capstone_Project/checkpoints_cnn_every_epoch/checkpoint_58\n",
            "\n",
            "Epoch 00058: val_acc did not improve from 0.91155\n",
            "Epoch 59/100\n",
            "6/6 [==============================] - 12s 2s/step - loss: 0.3167 - acc: 0.9040 - precision: 0.9419 - recall: 0.8743 - auc: 0.9925 - val_loss: 0.8091 - val_acc: 0.9127 - val_precision: 0.9961 - val_recall: 0.5087 - val_auc: 0.9909\n",
            "\n",
            "Epoch 00059: saving model to /content/gdrive/MyDrive/Colab_Notebooks/Capstone_Project/checkpoints_cnn_every_epoch/checkpoint_59\n",
            "\n",
            "Epoch 00059: val_acc improved from 0.91155 to 0.91273, saving model to /content/gdrive/MyDrive/Colab_Notebooks/Capstone_Project/checkpoints_cnn_best_only/checkpoint\n",
            "Epoch 60/100\n",
            "6/6 [==============================] - 12s 2s/step - loss: 0.3138 - acc: 0.9040 - precision: 0.9403 - recall: 0.8760 - auc: 0.9926 - val_loss: 0.8006 - val_acc: 0.9151 - val_precision: 0.9943 - val_recall: 0.5092 - val_auc: 0.9913\n",
            "\n",
            "Epoch 00060: saving model to /content/gdrive/MyDrive/Colab_Notebooks/Capstone_Project/checkpoints_cnn_every_epoch/checkpoint_60\n",
            "\n",
            "Epoch 00060: val_acc improved from 0.91273 to 0.91510, saving model to /content/gdrive/MyDrive/Colab_Notebooks/Capstone_Project/checkpoints_cnn_best_only/checkpoint\n",
            "Epoch 61/100\n",
            "6/6 [==============================] - 12s 2s/step - loss: 0.3118 - acc: 0.9054 - precision: 0.9413 - recall: 0.8772 - auc: 0.9925 - val_loss: 0.7796 - val_acc: 0.9148 - val_precision: 0.9938 - val_recall: 0.5242 - val_auc: 0.9914\n",
            "\n",
            "Epoch 00061: saving model to /content/gdrive/MyDrive/Colab_Notebooks/Capstone_Project/checkpoints_cnn_every_epoch/checkpoint_61\n",
            "\n",
            "Epoch 00061: val_acc did not improve from 0.91510\n",
            "Epoch 62/100\n",
            "6/6 [==============================] - 12s 2s/step - loss: 0.3005 - acc: 0.9079 - precision: 0.9430 - recall: 0.8826 - auc: 0.9932 - val_loss: 0.7468 - val_acc: 0.9156 - val_precision: 0.9942 - val_recall: 0.5602 - val_auc: 0.9918\n",
            "\n",
            "Epoch 00062: saving model to /content/gdrive/MyDrive/Colab_Notebooks/Capstone_Project/checkpoints_cnn_every_epoch/checkpoint_62\n",
            "\n",
            "Epoch 00062: val_acc improved from 0.91510 to 0.91564, saving model to /content/gdrive/MyDrive/Colab_Notebooks/Capstone_Project/checkpoints_cnn_best_only/checkpoint\n",
            "Epoch 63/100\n",
            "6/6 [==============================] - 12s 2s/step - loss: 0.3048 - acc: 0.9070 - precision: 0.9430 - recall: 0.8797 - auc: 0.9929 - val_loss: 0.7102 - val_acc: 0.9147 - val_precision: 0.9940 - val_recall: 0.5880 - val_auc: 0.9920\n",
            "\n",
            "Epoch 00063: saving model to /content/gdrive/MyDrive/Colab_Notebooks/Capstone_Project/checkpoints_cnn_every_epoch/checkpoint_63\n",
            "\n",
            "Epoch 00063: val_acc did not improve from 0.91564\n",
            "Epoch 64/100\n",
            "6/6 [==============================] - 12s 2s/step - loss: 0.2973 - acc: 0.9101 - precision: 0.9433 - recall: 0.8837 - auc: 0.9932 - val_loss: 0.7328 - val_acc: 0.9092 - val_precision: 0.9943 - val_recall: 0.5728 - val_auc: 0.9914\n",
            "\n",
            "Epoch 00064: saving model to /content/gdrive/MyDrive/Colab_Notebooks/Capstone_Project/checkpoints_cnn_every_epoch/checkpoint_64\n",
            "\n",
            "Epoch 00064: val_acc did not improve from 0.91564\n",
            "Epoch 65/100\n",
            "6/6 [==============================] - 12s 2s/step - loss: 0.2988 - acc: 0.9105 - precision: 0.9446 - recall: 0.8818 - auc: 0.9930 - val_loss: 0.6655 - val_acc: 0.9159 - val_precision: 0.9927 - val_recall: 0.6313 - val_auc: 0.9923\n",
            "\n",
            "Epoch 00065: saving model to /content/gdrive/MyDrive/Colab_Notebooks/Capstone_Project/checkpoints_cnn_every_epoch/checkpoint_65\n",
            "\n",
            "Epoch 00065: val_acc improved from 0.91564 to 0.91592, saving model to /content/gdrive/MyDrive/Colab_Notebooks/Capstone_Project/checkpoints_cnn_best_only/checkpoint\n",
            "Epoch 66/100\n",
            "6/6 [==============================] - 12s 2s/step - loss: 0.3023 - acc: 0.9093 - precision: 0.9430 - recall: 0.8828 - auc: 0.9929 - val_loss: 0.6570 - val_acc: 0.9125 - val_precision: 0.9925 - val_recall: 0.6422 - val_auc: 0.9923\n",
            "\n",
            "Epoch 00066: saving model to /content/gdrive/MyDrive/Colab_Notebooks/Capstone_Project/checkpoints_cnn_every_epoch/checkpoint_66\n",
            "\n",
            "Epoch 00066: val_acc did not improve from 0.91592\n",
            "Epoch 67/100\n",
            "6/6 [==============================] - 12s 2s/step - loss: 0.2945 - acc: 0.9122 - precision: 0.9450 - recall: 0.8851 - auc: 0.9931 - val_loss: 0.6243 - val_acc: 0.9122 - val_precision: 0.9928 - val_recall: 0.6678 - val_auc: 0.9924\n",
            "\n",
            "Epoch 00067: saving model to /content/gdrive/MyDrive/Colab_Notebooks/Capstone_Project/checkpoints_cnn_every_epoch/checkpoint_67\n",
            "\n",
            "Epoch 00067: val_acc did not improve from 0.91592\n",
            "Epoch 68/100\n",
            "6/6 [==============================] - 12s 2s/step - loss: 0.2926 - acc: 0.9132 - precision: 0.9450 - recall: 0.8876 - auc: 0.9931 - val_loss: 0.6061 - val_acc: 0.9161 - val_precision: 0.9913 - val_recall: 0.6773 - val_auc: 0.9926\n",
            "\n",
            "Epoch 00068: saving model to /content/gdrive/MyDrive/Colab_Notebooks/Capstone_Project/checkpoints_cnn_every_epoch/checkpoint_68\n",
            "\n",
            "Epoch 00068: val_acc improved from 0.91592 to 0.91610, saving model to /content/gdrive/MyDrive/Colab_Notebooks/Capstone_Project/checkpoints_cnn_best_only/checkpoint\n",
            "Epoch 69/100\n",
            "6/6 [==============================] - 12s 2s/step - loss: 0.2924 - acc: 0.9108 - precision: 0.9448 - recall: 0.8842 - auc: 0.9933 - val_loss: 0.5576 - val_acc: 0.9179 - val_precision: 0.9898 - val_recall: 0.7170 - val_auc: 0.9930\n",
            "\n",
            "Epoch 00069: saving model to /content/gdrive/MyDrive/Colab_Notebooks/Capstone_Project/checkpoints_cnn_every_epoch/checkpoint_69\n",
            "\n",
            "Epoch 00069: val_acc improved from 0.91610 to 0.91792, saving model to /content/gdrive/MyDrive/Colab_Notebooks/Capstone_Project/checkpoints_cnn_best_only/checkpoint\n",
            "Epoch 70/100\n",
            "6/6 [==============================] - 12s 2s/step - loss: 0.2825 - acc: 0.9141 - precision: 0.9448 - recall: 0.8897 - auc: 0.9937 - val_loss: 0.5812 - val_acc: 0.9140 - val_precision: 0.9908 - val_recall: 0.6991 - val_auc: 0.9927\n",
            "\n",
            "Epoch 00070: saving model to /content/gdrive/MyDrive/Colab_Notebooks/Capstone_Project/checkpoints_cnn_every_epoch/checkpoint_70\n",
            "\n",
            "Epoch 00070: val_acc did not improve from 0.91792\n",
            "Epoch 71/100\n",
            "6/6 [==============================] - 12s 2s/step - loss: 0.2863 - acc: 0.9131 - precision: 0.9457 - recall: 0.8874 - auc: 0.9936 - val_loss: 0.5585 - val_acc: 0.9142 - val_precision: 0.9886 - val_recall: 0.7125 - val_auc: 0.9928\n",
            "\n",
            "Epoch 00071: saving model to /content/gdrive/MyDrive/Colab_Notebooks/Capstone_Project/checkpoints_cnn_every_epoch/checkpoint_71\n",
            "\n",
            "Epoch 00071: val_acc did not improve from 0.91792\n",
            "Epoch 72/100\n",
            "6/6 [==============================] - 12s 2s/step - loss: 0.2901 - acc: 0.9115 - precision: 0.9440 - recall: 0.8873 - auc: 0.9934 - val_loss: 0.5521 - val_acc: 0.9171 - val_precision: 0.9901 - val_recall: 0.7194 - val_auc: 0.9931\n",
            "\n",
            "Epoch 00072: saving model to /content/gdrive/MyDrive/Colab_Notebooks/Capstone_Project/checkpoints_cnn_every_epoch/checkpoint_72\n",
            "\n",
            "Epoch 00072: val_acc did not improve from 0.91792\n",
            "Epoch 73/100\n",
            "6/6 [==============================] - 12s 2s/step - loss: 0.2798 - acc: 0.9157 - precision: 0.9474 - recall: 0.8907 - auc: 0.9938 - val_loss: 0.5173 - val_acc: 0.9166 - val_precision: 0.9891 - val_recall: 0.7427 - val_auc: 0.9933\n",
            "\n",
            "Epoch 00073: saving model to /content/gdrive/MyDrive/Colab_Notebooks/Capstone_Project/checkpoints_cnn_every_epoch/checkpoint_73\n",
            "\n",
            "Epoch 00073: val_acc did not improve from 0.91792\n",
            "Epoch 74/100\n",
            "6/6 [==============================] - 12s 2s/step - loss: 0.2779 - acc: 0.9153 - precision: 0.9454 - recall: 0.8929 - auc: 0.9937 - val_loss: 0.5198 - val_acc: 0.9201 - val_precision: 0.9888 - val_recall: 0.7383 - val_auc: 0.9935\n",
            "\n",
            "Epoch 00074: saving model to /content/gdrive/MyDrive/Colab_Notebooks/Capstone_Project/checkpoints_cnn_every_epoch/checkpoint_74\n",
            "\n",
            "Epoch 00074: val_acc improved from 0.91792 to 0.92010, saving model to /content/gdrive/MyDrive/Colab_Notebooks/Capstone_Project/checkpoints_cnn_best_only/checkpoint\n",
            "Epoch 75/100\n",
            "6/6 [==============================] - 12s 2s/step - loss: 0.2757 - acc: 0.9152 - precision: 0.9463 - recall: 0.8918 - auc: 0.9939 - val_loss: 0.4997 - val_acc: 0.9188 - val_precision: 0.9894 - val_recall: 0.7528 - val_auc: 0.9936\n",
            "\n",
            "Epoch 00075: saving model to /content/gdrive/MyDrive/Colab_Notebooks/Capstone_Project/checkpoints_cnn_every_epoch/checkpoint_75\n",
            "\n",
            "Epoch 00075: val_acc did not improve from 0.92010\n",
            "Epoch 76/100\n",
            "6/6 [==============================] - 12s 2s/step - loss: 0.2750 - acc: 0.9180 - precision: 0.9481 - recall: 0.8952 - auc: 0.9938 - val_loss: 0.4661 - val_acc: 0.9206 - val_precision: 0.9875 - val_recall: 0.7750 - val_auc: 0.9939\n",
            "\n",
            "Epoch 00076: saving model to /content/gdrive/MyDrive/Colab_Notebooks/Capstone_Project/checkpoints_cnn_every_epoch/checkpoint_76\n",
            "\n",
            "Epoch 00076: val_acc improved from 0.92010 to 0.92056, saving model to /content/gdrive/MyDrive/Colab_Notebooks/Capstone_Project/checkpoints_cnn_best_only/checkpoint\n",
            "Epoch 77/100\n",
            "6/6 [==============================] - 12s 2s/step - loss: 0.2684 - acc: 0.9198 - precision: 0.9489 - recall: 0.8939 - auc: 0.9941 - val_loss: 0.4531 - val_acc: 0.9158 - val_precision: 0.9841 - val_recall: 0.7827 - val_auc: 0.9936\n",
            "\n",
            "Epoch 00077: saving model to /content/gdrive/MyDrive/Colab_Notebooks/Capstone_Project/checkpoints_cnn_every_epoch/checkpoint_77\n",
            "\n",
            "Epoch 00077: val_acc did not improve from 0.92056\n",
            "Epoch 78/100\n",
            "6/6 [==============================] - 12s 2s/step - loss: 0.2730 - acc: 0.9174 - precision: 0.9469 - recall: 0.8949 - auc: 0.9938 - val_loss: 0.4333 - val_acc: 0.9205 - val_precision: 0.9838 - val_recall: 0.7949 - val_auc: 0.9939\n",
            "\n",
            "Epoch 00078: saving model to /content/gdrive/MyDrive/Colab_Notebooks/Capstone_Project/checkpoints_cnn_every_epoch/checkpoint_78\n",
            "\n",
            "Epoch 00078: val_acc did not improve from 0.92056\n",
            "Epoch 79/100\n",
            "6/6 [==============================] - 12s 2s/step - loss: 0.2646 - acc: 0.9207 - precision: 0.9503 - recall: 0.8966 - auc: 0.9943 - val_loss: 0.4384 - val_acc: 0.9150 - val_precision: 0.9827 - val_recall: 0.7903 - val_auc: 0.9933\n",
            "\n",
            "Epoch 00079: saving model to /content/gdrive/MyDrive/Colab_Notebooks/Capstone_Project/checkpoints_cnn_every_epoch/checkpoint_79\n",
            "\n",
            "Epoch 00079: val_acc did not improve from 0.92056\n",
            "Epoch 80/100\n",
            "6/6 [==============================] - 13s 2s/step - loss: 0.2654 - acc: 0.9197 - precision: 0.9470 - recall: 0.8981 - auc: 0.9941 - val_loss: 0.4382 - val_acc: 0.9193 - val_precision: 0.9842 - val_recall: 0.7882 - val_auc: 0.9937\n",
            "\n",
            "Epoch 00080: saving model to /content/gdrive/MyDrive/Colab_Notebooks/Capstone_Project/checkpoints_cnn_every_epoch/checkpoint_80\n",
            "\n",
            "Epoch 00080: val_acc did not improve from 0.92056\n",
            "Epoch 81/100\n",
            "6/6 [==============================] - 13s 2s/step - loss: 0.2687 - acc: 0.9203 - precision: 0.9503 - recall: 0.8968 - auc: 0.9942 - val_loss: 0.4142 - val_acc: 0.9174 - val_precision: 0.9822 - val_recall: 0.8035 - val_auc: 0.9938\n",
            "\n",
            "Epoch 00081: saving model to /content/gdrive/MyDrive/Colab_Notebooks/Capstone_Project/checkpoints_cnn_every_epoch/checkpoint_81\n",
            "\n",
            "Epoch 00081: val_acc did not improve from 0.92056\n",
            "Epoch 82/100\n",
            "6/6 [==============================] - 12s 2s/step - loss: 0.2605 - acc: 0.9231 - precision: 0.9496 - recall: 0.9015 - auc: 0.9940 - val_loss: 0.3980 - val_acc: 0.9210 - val_precision: 0.9811 - val_recall: 0.8155 - val_auc: 0.9942\n",
            "\n",
            "Epoch 00082: saving model to /content/gdrive/MyDrive/Colab_Notebooks/Capstone_Project/checkpoints_cnn_every_epoch/checkpoint_82\n",
            "\n",
            "Epoch 00082: val_acc improved from 0.92056 to 0.92101, saving model to /content/gdrive/MyDrive/Colab_Notebooks/Capstone_Project/checkpoints_cnn_best_only/checkpoint\n",
            "Epoch 83/100\n",
            "6/6 [==============================] - 12s 2s/step - loss: 0.2579 - acc: 0.9223 - precision: 0.9503 - recall: 0.8982 - auc: 0.9945 - val_loss: 0.3710 - val_acc: 0.9196 - val_precision: 0.9781 - val_recall: 0.8334 - val_auc: 0.9942\n",
            "\n",
            "Epoch 00083: saving model to /content/gdrive/MyDrive/Colab_Notebooks/Capstone_Project/checkpoints_cnn_every_epoch/checkpoint_83\n",
            "\n",
            "Epoch 00083: val_acc did not improve from 0.92101\n",
            "Epoch 84/100\n",
            "6/6 [==============================] - 12s 2s/step - loss: 0.2585 - acc: 0.9208 - precision: 0.9485 - recall: 0.9008 - auc: 0.9943 - val_loss: 0.4092 - val_acc: 0.9162 - val_precision: 0.9802 - val_recall: 0.8099 - val_auc: 0.9937\n",
            "\n",
            "Epoch 00084: saving model to /content/gdrive/MyDrive/Colab_Notebooks/Capstone_Project/checkpoints_cnn_every_epoch/checkpoint_84\n",
            "\n",
            "Epoch 00084: val_acc did not improve from 0.92101\n",
            "Epoch 85/100\n",
            "6/6 [==============================] - 12s 2s/step - loss: 0.2575 - acc: 0.9225 - precision: 0.9505 - recall: 0.9003 - auc: 0.9945 - val_loss: 0.3759 - val_acc: 0.9199 - val_precision: 0.9784 - val_recall: 0.8312 - val_auc: 0.9941\n",
            "\n",
            "Epoch 00085: saving model to /content/gdrive/MyDrive/Colab_Notebooks/Capstone_Project/checkpoints_cnn_every_epoch/checkpoint_85\n",
            "\n",
            "Epoch 00085: val_acc did not improve from 0.92101\n",
            "Epoch 86/100\n",
            "6/6 [==============================] - 12s 2s/step - loss: 0.2533 - acc: 0.9236 - precision: 0.9513 - recall: 0.9019 - auc: 0.9944 - val_loss: 0.4105 - val_acc: 0.9125 - val_precision: 0.9780 - val_recall: 0.8078 - val_auc: 0.9933\n",
            "\n",
            "Epoch 00086: saving model to /content/gdrive/MyDrive/Colab_Notebooks/Capstone_Project/checkpoints_cnn_every_epoch/checkpoint_86\n",
            "\n",
            "Epoch 00086: val_acc did not improve from 0.92101\n",
            "Epoch 87/100\n",
            "6/6 [==============================] - 12s 2s/step - loss: 0.2581 - acc: 0.9227 - precision: 0.9508 - recall: 0.9005 - auc: 0.9944 - val_loss: 0.3749 - val_acc: 0.9149 - val_precision: 0.9765 - val_recall: 0.8305 - val_auc: 0.9939\n",
            "\n",
            "Epoch 00087: saving model to /content/gdrive/MyDrive/Colab_Notebooks/Capstone_Project/checkpoints_cnn_every_epoch/checkpoint_87\n",
            "\n",
            "Epoch 00087: val_acc did not improve from 0.92101\n",
            "Epoch 88/100\n",
            "6/6 [==============================] - 12s 2s/step - loss: 0.2471 - acc: 0.9249 - precision: 0.9515 - recall: 0.9042 - auc: 0.9949 - val_loss: 0.3594 - val_acc: 0.9173 - val_precision: 0.9755 - val_recall: 0.8397 - val_auc: 0.9941\n",
            "\n",
            "Epoch 00088: saving model to /content/gdrive/MyDrive/Colab_Notebooks/Capstone_Project/checkpoints_cnn_every_epoch/checkpoint_88\n",
            "\n",
            "Epoch 00088: val_acc did not improve from 0.92101\n",
            "Epoch 89/100\n",
            "6/6 [==============================] - 12s 2s/step - loss: 0.2526 - acc: 0.9223 - precision: 0.9494 - recall: 0.9004 - auc: 0.9947 - val_loss: 0.3309 - val_acc: 0.9230 - val_precision: 0.9740 - val_recall: 0.8561 - val_auc: 0.9945\n",
            "\n",
            "Epoch 00089: saving model to /content/gdrive/MyDrive/Colab_Notebooks/Capstone_Project/checkpoints_cnn_every_epoch/checkpoint_89\n",
            "\n",
            "Epoch 00089: val_acc improved from 0.92101 to 0.92301, saving model to /content/gdrive/MyDrive/Colab_Notebooks/Capstone_Project/checkpoints_cnn_best_only/checkpoint\n",
            "Epoch 90/100\n",
            "6/6 [==============================] - 12s 2s/step - loss: 0.2499 - acc: 0.9259 - precision: 0.9518 - recall: 0.9052 - auc: 0.9944 - val_loss: 0.3297 - val_acc: 0.9216 - val_precision: 0.9748 - val_recall: 0.8564 - val_auc: 0.9945\n",
            "\n",
            "Epoch 00090: saving model to /content/gdrive/MyDrive/Colab_Notebooks/Capstone_Project/checkpoints_cnn_every_epoch/checkpoint_90\n",
            "\n",
            "Epoch 00090: val_acc did not improve from 0.92301\n",
            "Epoch 91/100\n",
            "6/6 [==============================] - 12s 2s/step - loss: 0.2515 - acc: 0.9254 - precision: 0.9515 - recall: 0.9041 - auc: 0.9945 - val_loss: 0.3296 - val_acc: 0.9214 - val_precision: 0.9742 - val_recall: 0.8534 - val_auc: 0.9943\n",
            "\n",
            "Epoch 00091: saving model to /content/gdrive/MyDrive/Colab_Notebooks/Capstone_Project/checkpoints_cnn_every_epoch/checkpoint_91\n",
            "\n",
            "Epoch 00091: val_acc did not improve from 0.92301\n",
            "Epoch 92/100\n",
            "6/6 [==============================] - 12s 2s/step - loss: 0.2465 - acc: 0.9261 - precision: 0.9518 - recall: 0.9066 - auc: 0.9947 - val_loss: 0.3218 - val_acc: 0.9205 - val_precision: 0.9734 - val_recall: 0.8610 - val_auc: 0.9944\n",
            "\n",
            "Epoch 00092: saving model to /content/gdrive/MyDrive/Colab_Notebooks/Capstone_Project/checkpoints_cnn_every_epoch/checkpoint_92\n",
            "\n",
            "Epoch 00092: val_acc did not improve from 0.92301\n",
            "Epoch 93/100\n",
            "6/6 [==============================] - 12s 2s/step - loss: 0.2448 - acc: 0.9256 - precision: 0.9523 - recall: 0.9031 - auc: 0.9950 - val_loss: 0.3150 - val_acc: 0.9235 - val_precision: 0.9726 - val_recall: 0.8658 - val_auc: 0.9946\n",
            "\n",
            "Epoch 00093: saving model to /content/gdrive/MyDrive/Colab_Notebooks/Capstone_Project/checkpoints_cnn_every_epoch/checkpoint_93\n",
            "\n",
            "Epoch 00093: val_acc improved from 0.92301 to 0.92347, saving model to /content/gdrive/MyDrive/Colab_Notebooks/Capstone_Project/checkpoints_cnn_best_only/checkpoint\n",
            "Epoch 94/100\n",
            "6/6 [==============================] - 12s 2s/step - loss: 0.2417 - acc: 0.9278 - precision: 0.9525 - recall: 0.9068 - auc: 0.9949 - val_loss: 0.3093 - val_acc: 0.9221 - val_precision: 0.9697 - val_recall: 0.8691 - val_auc: 0.9944\n",
            "\n",
            "Epoch 00094: saving model to /content/gdrive/MyDrive/Colab_Notebooks/Capstone_Project/checkpoints_cnn_every_epoch/checkpoint_94\n",
            "\n",
            "Epoch 00094: val_acc did not improve from 0.92347\n",
            "Epoch 95/100\n",
            "6/6 [==============================] - 12s 2s/step - loss: 0.2375 - acc: 0.9282 - precision: 0.9534 - recall: 0.9094 - auc: 0.9949 - val_loss: 0.2963 - val_acc: 0.9231 - val_precision: 0.9694 - val_recall: 0.8762 - val_auc: 0.9947\n",
            "\n",
            "Epoch 00095: saving model to /content/gdrive/MyDrive/Colab_Notebooks/Capstone_Project/checkpoints_cnn_every_epoch/checkpoint_95\n",
            "\n",
            "Epoch 00095: val_acc did not improve from 0.92347\n",
            "Epoch 96/100\n",
            "6/6 [==============================] - 12s 2s/step - loss: 0.2290 - acc: 0.9305 - precision: 0.9562 - recall: 0.9129 - auc: 0.9953 - val_loss: 0.2837 - val_acc: 0.9245 - val_precision: 0.9662 - val_recall: 0.8847 - val_auc: 0.9947\n",
            "\n",
            "Epoch 00096: saving model to /content/gdrive/MyDrive/Colab_Notebooks/Capstone_Project/checkpoints_cnn_every_epoch/checkpoint_96\n",
            "\n",
            "Epoch 00096: val_acc improved from 0.92347 to 0.92447, saving model to /content/gdrive/MyDrive/Colab_Notebooks/Capstone_Project/checkpoints_cnn_best_only/checkpoint\n",
            "Epoch 97/100\n",
            "6/6 [==============================] - 12s 2s/step - loss: 0.2293 - acc: 0.9304 - precision: 0.9539 - recall: 0.9128 - auc: 0.9952 - val_loss: 0.2929 - val_acc: 0.9218 - val_precision: 0.9644 - val_recall: 0.8781 - val_auc: 0.9946\n",
            "\n",
            "Epoch 00097: saving model to /content/gdrive/MyDrive/Colab_Notebooks/Capstone_Project/checkpoints_cnn_every_epoch/checkpoint_97\n",
            "\n",
            "Epoch 00097: val_acc did not improve from 0.92447\n",
            "Epoch 98/100\n",
            "6/6 [==============================] - 12s 2s/step - loss: 0.2332 - acc: 0.9307 - precision: 0.9552 - recall: 0.9095 - auc: 0.9951 - val_loss: 0.2921 - val_acc: 0.9233 - val_precision: 0.9659 - val_recall: 0.8774 - val_auc: 0.9947\n",
            "\n",
            "Epoch 00098: saving model to /content/gdrive/MyDrive/Colab_Notebooks/Capstone_Project/checkpoints_cnn_every_epoch/checkpoint_98\n",
            "\n",
            "Epoch 00098: val_acc did not improve from 0.92447\n",
            "Epoch 99/100\n",
            "6/6 [==============================] - 12s 2s/step - loss: 0.2350 - acc: 0.9270 - precision: 0.9521 - recall: 0.9083 - auc: 0.9953 - val_loss: 0.2852 - val_acc: 0.9241 - val_precision: 0.9655 - val_recall: 0.8839 - val_auc: 0.9946\n",
            "\n",
            "Epoch 00099: saving model to /content/gdrive/MyDrive/Colab_Notebooks/Capstone_Project/checkpoints_cnn_every_epoch/checkpoint_99\n",
            "\n",
            "Epoch 00099: val_acc did not improve from 0.92447\n",
            "Epoch 100/100\n",
            "6/6 [==============================] - 12s 2s/step - loss: 0.2313 - acc: 0.9292 - precision: 0.9537 - recall: 0.9105 - auc: 0.9954 - val_loss: 0.2878 - val_acc: 0.9228 - val_precision: 0.9661 - val_recall: 0.8819 - val_auc: 0.9946\n",
            "\n",
            "Epoch 00100: saving model to /content/gdrive/MyDrive/Colab_Notebooks/Capstone_Project/checkpoints_cnn_every_epoch/checkpoint_100\n",
            "\n",
            "Epoch 00100: val_acc did not improve from 0.92447\n"
          ],
          "name": "stdout"
        }
      ]
    },
    {
      "cell_type": "code",
      "metadata": {
        "id": "vRv9Vazcp_PW"
      },
      "source": [
        "#Clear directories (if necessary)\n",
        "! rm -r /content/gdrive/MyDrive/Colab_Notebooks/Capstone_Project/checkpoints_cnn_best_only\n",
        "! rm -r /content/gdrive/MyDrive/Colab_Notebooks/Capstone_Project/checkpoints_cnn_every_epoch"
      ],
      "execution_count": null,
      "outputs": []
    },
    {
      "cell_type": "code",
      "metadata": {
        "colab": {
          "base_uri": "https://localhost:8080/"
        },
        "id": "F1fhw3vwp_Vh",
        "outputId": "af0fb8b7-d3a6-42af-fa41-68702425d32d"
      },
      "source": [
        "# Have a look at what the checkpoint creates\n",
        "! ls -lh /content/gdrive/MyDrive/Colab_Notebooks/Capstone_Project/checkpoints_cnn_best_only"
      ],
      "execution_count": null,
      "outputs": [
        {
          "output_type": "stream",
          "text": [
            "total 4.1M\n",
            "-rw------- 1 root root   77 May 20 11:00 checkpoint\n",
            "-rw------- 1 root root 4.1M May 20 11:00 checkpoint.data-00000-of-00001\n",
            "-rw------- 1 root root 3.4K May 20 11:00 checkpoint.index\n"
          ],
          "name": "stdout"
        }
      ]
    },
    {
      "cell_type": "code",
      "metadata": {
        "id": "PRmWmZCpqGGz"
      },
      "source": [
        "#Save history\n",
        "np.save('/content/gdrive/MyDrive/Colab_Notebooks/Capstone_Project/History/history_cnn.npy',history_cnn.history)"
      ],
      "execution_count": null,
      "outputs": []
    },
    {
      "cell_type": "code",
      "metadata": {
        "id": "93eCm_9gqGJN"
      },
      "source": [
        "#Load history\n",
        "#history1=np.load('/content/gdrive/MyDrive/Colab_Notebooks/Capstone_Project/History/history_cnn.npy',allow_pickle='TRUE').item()\n"
      ],
      "execution_count": null,
      "outputs": []
    },
    {
      "cell_type": "code",
      "metadata": {
        "colab": {
          "base_uri": "https://localhost:8080/",
          "height": 295
        },
        "id": "hjBifeOKqGLI",
        "outputId": "d5e0f535-818f-456d-d09d-aa87ac433d10"
      },
      "source": [
        "#Epoch vs loss graph\n",
        "plt.plot(history_cnn.history['loss'])\n",
        "plt.plot(history_cnn.history['val_loss'])\n",
        "plt.title('CNN Loss vs. epochs')\n",
        "plt.ylabel('Loss')\n",
        "plt.xlabel('Epoch')\n",
        "plt.legend(['Training', 'Validation'], loc='upper right')\n",
        "plt.show() "
      ],
      "execution_count": null,
      "outputs": [
        {
          "output_type": "display_data",
          "data": {
            "image/png": "[encoded data removed]",
            "text/plain": [
              "<Figure size 432x288 with 1 Axes>"
            ]
          },
          "metadata": {
            "tags": [],
            "needs_background": "light"
          }
        }
      ]
    },
    {
      "cell_type": "code",
      "metadata": {
        "colab": {
          "base_uri": "https://localhost:8080/",
          "height": 295
        },
        "id": "e6LBB5y3qMCy",
        "outputId": "4c8929ee-2b46-457d-faf3-8d16772760e1"
      },
      "source": [
        "# Epoch vs accuracy graph\n",
        "\n",
        "try:\n",
        "    plt.plot(history_cnn.history['accuracy'])\n",
        "    plt.plot(history_cnn.history['val_accuracy'])\n",
        "except KeyError:\n",
        "    plt.plot(history_cnn.history['acc'])\n",
        "    plt.plot(history_cnn.history['val_acc'])\n",
        "plt.title('CNN Accuracy vs. epochs')\n",
        "plt.ylabel('Accuracy')\n",
        "plt.xlabel('Epoch')\n",
        "plt.legend(['Training', 'Validation'], loc='lower right')\n",
        "plt.show() "
      ],
      "execution_count": null,
      "outputs": [
        {
          "output_type": "display_data",
          "data": {
            "image/png": "[encoded data removed]",
            "text/plain": [
              "<Figure size 432x288 with 1 Axes>"
            ]
          },
          "metadata": {
            "tags": [],
            "needs_background": "light"
          }
        }
      ]
    },
    {
      "cell_type": "code",
      "metadata": {
        "colab": {
          "base_uri": "https://localhost:8080/"
        },
        "id": "tJNuvM-A2pdJ",
        "outputId": "a4f8e8d8-b922-4b25-c69a-66fc7255b9ef"
      },
      "source": [
        "#Load best Weights CNN\n",
        "final_model_cnn  = get_new_CNN_model(x_trainv[0].shape)\n",
        "final_model_cnn.load_weights('/content/gdrive/MyDrive/Colab_Notebooks/Capstone_Project/checkpoints_cnn_best_only/checkpoint')\n"
      ],
      "execution_count": null,
      "outputs": [
        {
          "output_type": "execute_result",
          "data": {
            "text/plain": [
              "<tensorflow.python.training.tracking.util.CheckpointLoadStatus at 0x7ff2e00394d0>"
            ]
          },
          "metadata": {
            "tags": []
          },
          "execution_count": 25
        }
      ]
    },
    {
      "cell_type": "code",
      "metadata": {
        "colab": {
          "base_uri": "https://localhost:8080/"
        },
        "id": "XJRN_ldnsfAr",
        "outputId": "deaffdd8-8e0b-4f00-ebd2-77404b214762"
      },
      "source": [
        "# Evaluate the model on the train set\n",
        "\n",
        "train_loss_cnn, train_acc_cnn, train_prec_cnn, train_recall_cnn, train_auc_cnn = final_model_cnn.evaluate(x_trainv,y_trainv, verbose=0)\n",
        "\n",
        "print(\"Train loss: {:.3f}\\nTrain accuracy: {:.2f}%\\nTrain precision: {:.2f}%\\nTrain recall: {:.2f}%\\nTrain AUC: {:.2f}\".format(train_loss_cnn, 100 * train_acc_cnn,100*train_prec_cnn,100*train_recall_cnn,train_auc_cnn ))"
      ],
      "execution_count": null,
      "outputs": [
        {
          "output_type": "stream",
          "text": [
            "Train loss: 0.202\n",
            "Train accuracy: 95.48%\n",
            "Train precision: 98.23%\n",
            "Train recall: 91.70%\n",
            "Train AUC: 1.00\n"
          ],
          "name": "stdout"
        }
      ]
    },
    {
      "cell_type": "code",
      "metadata": {
        "colab": {
          "base_uri": "https://localhost:8080/"
        },
        "id": "DwNiheY1sefn",
        "outputId": "d9802599-1303-495e-dab9-6dde40ceec50"
      },
      "source": [
        "# Evaluate the model on the test set\n",
        "\n",
        "test_loss_cnn, test_acc_cnn, test_prec_cnn, test_recall_cnn, test_auc_cnn = final_model_cnn.evaluate(x_test_gs ,y_test, verbose=0)\n",
        "\n",
        "print(\"Test loss: {:.3f}\\nTest accuracy: {:.2f}%\\nTest precision: {:.2f}%\\nTest recall: {:.2f}%\\nTest AUC: {:.2f}\".format(test_loss_cnn, 100 * test_acc_cnn,100*test_prec_cnn,100*test_recall_cnn,test_auc_cnn ))"
      ],
      "execution_count": null,
      "outputs": [
        {
          "output_type": "stream",
          "text": [
            "Test loss: 0.303\n",
            "Test accuracy: 91.93%\n",
            "Test precision: 95.73%\n",
            "Test recall: 87.78%\n",
            "Test AUC: 0.99\n"
          ],
          "name": "stdout"
        }
      ]
    },
    {
      "cell_type": "markdown",
      "metadata": {
        "id": "RUilupgAAKv7"
      },
      "source": [
        "##4. Get model predictions"
      ]
    },
    {
      "cell_type": "code",
      "metadata": {
        "id": "XMYYWs0oz_G5",
        "colab": {
          "base_uri": "https://localhost:8080/"
        },
        "outputId": "6091dfed-c0bf-493d-e97f-ee852093c351"
      },
      "source": [
        "#Load best Weights MLP\n",
        "final_model_mlp  = get_new_MLP_model(x_trainv[0].shape)\n",
        "final_model_mlp.load_weights('/content/gdrive/MyDrive/Colab_Notebooks/Capstone_Project/checkpoints_mlp_best_only/checkpoint')\n",
        "\n",
        "#Load best Weights CNN\n",
        "final_model_cnn  = get_new_CNN_model(x_trainv[0].shape)\n",
        "final_model_cnn.load_weights('/content/gdrive/MyDrive/Colab_Notebooks/Capstone_Project/checkpoints_cnn_best_only/checkpoint')"
      ],
      "execution_count": null,
      "outputs": [
        {
          "output_type": "execute_result",
          "data": {
            "text/plain": [
              "<tensorflow.python.training.tracking.util.CheckpointLoadStatus at 0x7ff2ff420390>"
            ]
          },
          "metadata": {
            "tags": []
          },
          "execution_count": 27
        }
      ]
    },
    {
      "cell_type": "code",
      "metadata": {
        "id": "8yUPWbFCz_G8",
        "colab": {
          "base_uri": "https://localhost:8080/",
          "height": 848
        },
        "outputId": "3984d58b-5fc9-4aab-a31c-c16b3e027d17"
      },
      "source": [
        "#Plot MLP predictions\n",
        "\n",
        "index_array=np.arange(0,x_test_gs.shape[0])\n",
        "\n",
        "r = np.random.choice(index_array, size=5, replace = False )\n",
        "\n",
        "fig, ax = plt.subplots(5, 3, figsize=(20, 13))\n",
        "\n",
        "for i in range(5):\n",
        "  img = x_test_gs[r[i],:,:,0]\n",
        "  ax[i,0].set_axis_off()\n",
        "  ax[i,0].imshow(img, cmap = 'gray')\n",
        "  ax[i,0].title.set_text(f\"Label: {np.argmax(y_test[r[i]])}\")\n",
        "  preds = final_model_mlp.predict(img[np.newaxis, ...,np.newaxis])\n",
        "\n",
        "  ax[i,1].bar(np.arange(len(np.squeeze(preds))),np.squeeze(preds))\n",
        "  ax[i,1].title.set_text(f\"MLP predictive distribution. MLP prediction : {np.argmax(np.squeeze(preds))}\")\n",
        "  ax[i,1].set_xticks(np.arange(len(np.squeeze(preds))))\n",
        "  ax[i,1].set_yticks(np.arange(0,1.2,0.2))\n",
        "\n",
        "  preds_cnn = final_model_cnn.predict(img[np.newaxis, ...,np.newaxis])\n",
        "  ax[i,2].bar(np.arange(len(np.squeeze(preds_cnn))),np.squeeze(preds_cnn), color ='green')\n",
        "  ax[i,2].title.set_text(f\"CNN predictive distribution. CNN prediction : {np.argmax(np.squeeze(preds_cnn))}\")\n",
        "  ax[i,2].set_xticks(np.arange(len(np.squeeze(preds_cnn))))\n",
        "  ax[i,2].set_yticks(np.arange(0,1.2,0.2))\n",
        "\n",
        "\n",
        "fig.suptitle(\"Models' Predictions\", fontsize=25)\n",
        "fig.subplots_adjust(hspace=0.5)"
      ],
      "execution_count": null,
      "outputs": [
        {
          "output_type": "display_data",
          "data": {
            "image/png": "[encoded data removed]",
            "text/plain": [
              "<Figure size 1440x936 with 15 Axes>"
            ]
          },
          "metadata": {
            "tags": [],
            "needs_background": "light"
          }
        }
      ]
    },
    {
      "cell_type": "code",
      "metadata": {
        "id": "06x8vu_AIiRV"
      },
      "source": [
        ""
      ],
      "execution_count": null,
      "outputs": []
    }
  ]
}